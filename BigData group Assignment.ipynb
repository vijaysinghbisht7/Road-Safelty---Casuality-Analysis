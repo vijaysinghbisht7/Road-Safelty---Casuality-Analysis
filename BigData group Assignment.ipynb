{
 "cells": [
  {
   "cell_type": "markdown",
   "id": "709a1041",
   "metadata": {},
   "source": [
    "# BIG DATA GROUP ASSIGNMENT"
   ]
  },
  {
   "cell_type": "markdown",
   "id": "713a8a92",
   "metadata": {},
   "source": [
    "# Group 9 members\n",
    "Vijay Bisht\n",
    "Chirag Bhatia\n",
    "Virali Madani\n",
    "Karishma Hegde"
   ]
  },
  {
   "cell_type": "code",
   "execution_count": 1,
   "id": "309e0d31",
   "metadata": {},
   "outputs": [],
   "source": [
    "import numpy as np\n",
    "import pandas as pd\n",
    "import matplotlib.pyplot as plt\n",
    "import seaborn as sns"
   ]
  },
  {
   "cell_type": "code",
   "execution_count": 71,
   "id": "201d5c19",
   "metadata": {},
   "outputs": [
    {
     "name": "stderr",
     "output_type": "stream",
     "text": [
      "C:\\Users\\bhati\\AppData\\Local\\Temp\\ipykernel_2304\\672275794.py:2: DtypeWarning: Columns (0,2) have mixed types. Specify dtype option on import or set low_memory=False.\n",
      "  cb2=pd.read_csv('casualty-statistics-vehicle-2020.csv')\n"
     ]
    }
   ],
   "source": [
    "cb1=pd.read_excel('casualty-statistics-accident-2020.xlsx')\n",
    "cb2=pd.read_csv('casualty-statistics-vehicle-2020.csv')"
   ]
  },
  {
   "cell_type": "code",
   "execution_count": 72,
   "id": "a29ef291",
   "metadata": {},
   "outputs": [
    {
     "name": "stdout",
     "output_type": "stream",
     "text": [
      "<class 'pandas.core.frame.DataFrame'>\n",
      "RangeIndex: 91199 entries, 0 to 91198\n",
      "Data columns (total 36 columns):\n",
      " #   Column                                       Non-Null Count  Dtype         \n",
      "---  ------                                       --------------  -----         \n",
      " 0   accident_index                               91199 non-null  object        \n",
      " 1   accident_year                                91199 non-null  int64         \n",
      " 2   accident_reference                           91199 non-null  object        \n",
      " 3   location_easting_osgr                        91185 non-null  float64       \n",
      " 4   location_northing_osgr                       91185 non-null  float64       \n",
      " 5   longitude                                    91185 non-null  float64       \n",
      " 6   latitude                                     91185 non-null  float64       \n",
      " 7   police_force                                 91199 non-null  int64         \n",
      " 8   accident_severity                            91199 non-null  int64         \n",
      " 9   number_of_vehicles                           91199 non-null  int64         \n",
      " 10  number_of_casualties                         91199 non-null  int64         \n",
      " 11  date                                         91199 non-null  datetime64[ns]\n",
      " 12  day_of_week                                  91199 non-null  int64         \n",
      " 13  time                                         91199 non-null  object        \n",
      " 14  local_authority_district                     91199 non-null  int64         \n",
      " 15  local_authority_ons_district                 91199 non-null  object        \n",
      " 16  local_authority_highway                      91199 non-null  object        \n",
      " 17  first_road_class                             91199 non-null  int64         \n",
      " 18  first_road_number                            91199 non-null  int64         \n",
      " 19  road_type                                    91199 non-null  int64         \n",
      " 20  speed_limit                                  91199 non-null  int64         \n",
      " 21  junction_detail                              91199 non-null  int64         \n",
      " 22  junction_control                             91199 non-null  int64         \n",
      " 23  second_road_class                            91199 non-null  int64         \n",
      " 24  second_road_number                           91199 non-null  int64         \n",
      " 25  pedestrian_crossing_human_control            91199 non-null  int64         \n",
      " 26  pedestrian_crossing_physical_facilities      91199 non-null  int64         \n",
      " 27  light_conditions                             91199 non-null  int64         \n",
      " 28  weather_conditions                           91199 non-null  int64         \n",
      " 29  road_surface_conditions                      91199 non-null  int64         \n",
      " 30  special_conditions_at_site                   91199 non-null  int64         \n",
      " 31  carriageway_hazards                          91199 non-null  int64         \n",
      " 32  urban_or_rural_area                          91199 non-null  int64         \n",
      " 33  did_police_officer_attend_scene_of_accident  91199 non-null  int64         \n",
      " 34  trunk_road_flag                              91199 non-null  int64         \n",
      " 35  lsoa_of_accident_location                    91199 non-null  object        \n",
      "dtypes: datetime64[ns](1), float64(4), int64(25), object(6)\n",
      "memory usage: 25.0+ MB\n"
     ]
    }
   ],
   "source": [
    "cb1.info()"
   ]
  },
  {
   "cell_type": "code",
   "execution_count": 73,
   "id": "63330b10",
   "metadata": {},
   "outputs": [
    {
     "name": "stdout",
     "output_type": "stream",
     "text": [
      "<class 'pandas.core.frame.DataFrame'>\n",
      "RangeIndex: 167375 entries, 0 to 167374\n",
      "Data columns (total 27 columns):\n",
      " #   Column                            Non-Null Count   Dtype \n",
      "---  ------                            --------------   ----- \n",
      " 0   accident_index                    167375 non-null  object\n",
      " 1   accident_year                     167375 non-null  int64 \n",
      " 2   accident_reference                167375 non-null  object\n",
      " 3   vehicle_reference                 167375 non-null  int64 \n",
      " 4   vehicle_type                      167375 non-null  int64 \n",
      " 5   towing_and_articulation           167375 non-null  int64 \n",
      " 6   vehicle_manoeuvre                 167375 non-null  int64 \n",
      " 7   vehicle_direction_from            167375 non-null  int64 \n",
      " 8   vehicle_direction_to              167375 non-null  int64 \n",
      " 9   vehicle_location_restricted_lane  167375 non-null  int64 \n",
      " 10  junction_location                 167375 non-null  int64 \n",
      " 11  skidding_and_overturning          167375 non-null  int64 \n",
      " 12  hit_object_in_carriageway         167375 non-null  int64 \n",
      " 13  vehicle_leaving_carriageway       167375 non-null  int64 \n",
      " 14  hit_object_off_carriageway        167375 non-null  int64 \n",
      " 15  first_point_of_impact             167375 non-null  int64 \n",
      " 16  vehicle_left_hand_drive           167375 non-null  int64 \n",
      " 17  journey_purpose_of_driver         167375 non-null  int64 \n",
      " 18  sex_of_driver                     167375 non-null  int64 \n",
      " 19  age_of_driver                     167375 non-null  int64 \n",
      " 20  age_band_of_driver                167375 non-null  int64 \n",
      " 21  engine_capacity_cc                167375 non-null  int64 \n",
      " 22  propulsion_code                   167375 non-null  int64 \n",
      " 23  age_of_vehicle                    167375 non-null  int64 \n",
      " 24  generic_make_model                167375 non-null  object\n",
      " 25  driver_imd_decile                 167375 non-null  int64 \n",
      " 26  driver_home_area_type             167375 non-null  int64 \n",
      "dtypes: int64(24), object(3)\n",
      "memory usage: 34.5+ MB\n"
     ]
    }
   ],
   "source": [
    "cb2.info()"
   ]
  },
  {
   "cell_type": "code",
   "execution_count": 74,
   "id": "514fcec1",
   "metadata": {},
   "outputs": [],
   "source": [
    "merge = cb1.merge(cb2, how='inner', on=['accident_reference'])"
   ]
  },
  {
   "cell_type": "code",
   "execution_count": 75,
   "id": "3b4fb5ec",
   "metadata": {},
   "outputs": [
    {
     "name": "stdout",
     "output_type": "stream",
     "text": [
      "<class 'pandas.core.frame.DataFrame'>\n",
      "Int64Index: 53292 entries, 0 to 53291\n",
      "Data columns (total 62 columns):\n",
      " #   Column                                       Non-Null Count  Dtype         \n",
      "---  ------                                       --------------  -----         \n",
      " 0   accident_index_x                             53292 non-null  object        \n",
      " 1   accident_year_x                              53292 non-null  int64         \n",
      " 2   accident_reference                           53292 non-null  object        \n",
      " 3   location_easting_osgr                        53278 non-null  float64       \n",
      " 4   location_northing_osgr                       53278 non-null  float64       \n",
      " 5   longitude                                    53278 non-null  float64       \n",
      " 6   latitude                                     53278 non-null  float64       \n",
      " 7   police_force                                 53292 non-null  int64         \n",
      " 8   accident_severity                            53292 non-null  int64         \n",
      " 9   number_of_vehicles                           53292 non-null  int64         \n",
      " 10  number_of_casualties                         53292 non-null  int64         \n",
      " 11  date                                         53292 non-null  datetime64[ns]\n",
      " 12  day_of_week                                  53292 non-null  int64         \n",
      " 13  time                                         53292 non-null  object        \n",
      " 14  local_authority_district                     53292 non-null  int64         \n",
      " 15  local_authority_ons_district                 53292 non-null  object        \n",
      " 16  local_authority_highway                      53292 non-null  object        \n",
      " 17  first_road_class                             53292 non-null  int64         \n",
      " 18  first_road_number                            53292 non-null  int64         \n",
      " 19  road_type                                    53292 non-null  int64         \n",
      " 20  speed_limit                                  53292 non-null  int64         \n",
      " 21  junction_detail                              53292 non-null  int64         \n",
      " 22  junction_control                             53292 non-null  int64         \n",
      " 23  second_road_class                            53292 non-null  int64         \n",
      " 24  second_road_number                           53292 non-null  int64         \n",
      " 25  pedestrian_crossing_human_control            53292 non-null  int64         \n",
      " 26  pedestrian_crossing_physical_facilities      53292 non-null  int64         \n",
      " 27  light_conditions                             53292 non-null  int64         \n",
      " 28  weather_conditions                           53292 non-null  int64         \n",
      " 29  road_surface_conditions                      53292 non-null  int64         \n",
      " 30  special_conditions_at_site                   53292 non-null  int64         \n",
      " 31  carriageway_hazards                          53292 non-null  int64         \n",
      " 32  urban_or_rural_area                          53292 non-null  int64         \n",
      " 33  did_police_officer_attend_scene_of_accident  53292 non-null  int64         \n",
      " 34  trunk_road_flag                              53292 non-null  int64         \n",
      " 35  lsoa_of_accident_location                    53292 non-null  object        \n",
      " 36  accident_index_y                             53292 non-null  object        \n",
      " 37  accident_year_y                              53292 non-null  int64         \n",
      " 38  vehicle_reference                            53292 non-null  int64         \n",
      " 39  vehicle_type                                 53292 non-null  int64         \n",
      " 40  towing_and_articulation                      53292 non-null  int64         \n",
      " 41  vehicle_manoeuvre                            53292 non-null  int64         \n",
      " 42  vehicle_direction_from                       53292 non-null  int64         \n",
      " 43  vehicle_direction_to                         53292 non-null  int64         \n",
      " 44  vehicle_location_restricted_lane             53292 non-null  int64         \n",
      " 45  junction_location                            53292 non-null  int64         \n",
      " 46  skidding_and_overturning                     53292 non-null  int64         \n",
      " 47  hit_object_in_carriageway                    53292 non-null  int64         \n",
      " 48  vehicle_leaving_carriageway                  53292 non-null  int64         \n",
      " 49  hit_object_off_carriageway                   53292 non-null  int64         \n",
      " 50  first_point_of_impact                        53292 non-null  int64         \n",
      " 51  vehicle_left_hand_drive                      53292 non-null  int64         \n",
      " 52  journey_purpose_of_driver                    53292 non-null  int64         \n",
      " 53  sex_of_driver                                53292 non-null  int64         \n",
      " 54  age_of_driver                                53292 non-null  int64         \n",
      " 55  age_band_of_driver                           53292 non-null  int64         \n",
      " 56  engine_capacity_cc                           53292 non-null  int64         \n",
      " 57  propulsion_code                              53292 non-null  int64         \n",
      " 58  age_of_vehicle                               53292 non-null  int64         \n",
      " 59  generic_make_model                           53292 non-null  object        \n",
      " 60  driver_imd_decile                            53292 non-null  int64         \n",
      " 61  driver_home_area_type                        53292 non-null  int64         \n",
      "dtypes: datetime64[ns](1), float64(4), int64(49), object(8)\n",
      "memory usage: 25.6+ MB\n"
     ]
    }
   ],
   "source": [
    "merge.info()"
   ]
  },
  {
   "cell_type": "code",
   "execution_count": 213,
   "id": "c98fe24c",
   "metadata": {},
   "outputs": [],
   "source": [
    "cb=merge[['number_of_vehicles','sex_of_driver','urban_or_rural_area','light_conditions',\n",
    "          'road_type','vehicle_left_hand_drive','first_point_of_impact','age_band_of_driver','age_of_vehicle',\n",
    "          'driver_home_area_type','vehicle_manoeuvre','road_surface_conditions','accident_severity',\n",
    "          'age_of_driver','number_of_casualties']]"
   ]
  },
  {
   "cell_type": "code",
   "execution_count": 214,
   "id": "6feaa7dc",
   "metadata": {},
   "outputs": [
    {
     "name": "stdout",
     "output_type": "stream",
     "text": [
      "<class 'pandas.core.frame.DataFrame'>\n",
      "Int64Index: 53292 entries, 0 to 53291\n",
      "Data columns (total 15 columns):\n",
      " #   Column                   Non-Null Count  Dtype\n",
      "---  ------                   --------------  -----\n",
      " 0   number_of_vehicles       53292 non-null  int64\n",
      " 1   sex_of_driver            53292 non-null  int64\n",
      " 2   urban_or_rural_area      53292 non-null  int64\n",
      " 3   light_conditions         53292 non-null  int64\n",
      " 4   road_type                53292 non-null  int64\n",
      " 5   vehicle_left_hand_drive  53292 non-null  int64\n",
      " 6   first_point_of_impact    53292 non-null  int64\n",
      " 7   age_band_of_driver       53292 non-null  int64\n",
      " 8   age_of_vehicle           53292 non-null  int64\n",
      " 9   driver_home_area_type    53292 non-null  int64\n",
      " 10  vehicle_manoeuvre        53292 non-null  int64\n",
      " 11  road_surface_conditions  53292 non-null  int64\n",
      " 12  accident_severity        53292 non-null  int64\n",
      " 13  age_of_driver            53292 non-null  int64\n",
      " 14  number_of_casualties     53292 non-null  int64\n",
      "dtypes: int64(15)\n",
      "memory usage: 6.5 MB\n"
     ]
    }
   ],
   "source": [
    "cb.info()"
   ]
  },
  {
   "cell_type": "code",
   "execution_count": 215,
   "id": "280bb7cd",
   "metadata": {},
   "outputs": [],
   "source": [
    "cb = cb.iloc[:12000,:]"
   ]
  },
  {
   "cell_type": "code",
   "execution_count": 216,
   "id": "bcd0ca7b",
   "metadata": {},
   "outputs": [
    {
     "name": "stdout",
     "output_type": "stream",
     "text": [
      "<class 'pandas.core.frame.DataFrame'>\n",
      "Int64Index: 12000 entries, 0 to 11999\n",
      "Data columns (total 15 columns):\n",
      " #   Column                   Non-Null Count  Dtype\n",
      "---  ------                   --------------  -----\n",
      " 0   number_of_vehicles       12000 non-null  int64\n",
      " 1   sex_of_driver            12000 non-null  int64\n",
      " 2   urban_or_rural_area      12000 non-null  int64\n",
      " 3   light_conditions         12000 non-null  int64\n",
      " 4   road_type                12000 non-null  int64\n",
      " 5   vehicle_left_hand_drive  12000 non-null  int64\n",
      " 6   first_point_of_impact    12000 non-null  int64\n",
      " 7   age_band_of_driver       12000 non-null  int64\n",
      " 8   age_of_vehicle           12000 non-null  int64\n",
      " 9   driver_home_area_type    12000 non-null  int64\n",
      " 10  vehicle_manoeuvre        12000 non-null  int64\n",
      " 11  road_surface_conditions  12000 non-null  int64\n",
      " 12  accident_severity        12000 non-null  int64\n",
      " 13  age_of_driver            12000 non-null  int64\n",
      " 14  number_of_casualties     12000 non-null  int64\n",
      "dtypes: int64(15)\n",
      "memory usage: 1.5 MB\n"
     ]
    }
   ],
   "source": [
    "cb.info()"
   ]
  },
  {
   "cell_type": "code",
   "execution_count": 217,
   "id": "f81d53e2",
   "metadata": {},
   "outputs": [],
   "source": [
    "from sklearn.model_selection import train_test_split\n",
    "\n",
    "trainset, testset = train_test_split(cb, test_size=0.2, random_state=2021)"
   ]
  },
  {
   "cell_type": "code",
   "execution_count": 218,
   "id": "35b8f97d",
   "metadata": {},
   "outputs": [
    {
     "name": "stdout",
     "output_type": "stream",
     "text": [
      "9600 train and 2400 test instances\n"
     ]
    }
   ],
   "source": [
    "print(f\"{trainset.shape[0]} train and {testset.shape[0]} test instances\")"
   ]
  },
  {
   "cell_type": "code",
   "execution_count": 219,
   "id": "579d5b88",
   "metadata": {},
   "outputs": [
    {
     "data": {
      "text/plain": [
       "(9600, 15)"
      ]
     },
     "execution_count": 219,
     "metadata": {},
     "output_type": "execute_result"
    }
   ],
   "source": [
    "trainset.shape"
   ]
  },
  {
   "cell_type": "code",
   "execution_count": 220,
   "id": "4e78cd38",
   "metadata": {},
   "outputs": [
    {
     "data": {
      "text/plain": [
       "(2400, 15)"
      ]
     },
     "execution_count": 220,
     "metadata": {},
     "output_type": "execute_result"
    }
   ],
   "source": [
    "testset.shape"
   ]
  },
  {
   "cell_type": "code",
   "execution_count": 221,
   "id": "f2d74db8",
   "metadata": {},
   "outputs": [
    {
     "data": {
      "text/html": [
       "<div>\n",
       "<style scoped>\n",
       "    .dataframe tbody tr th:only-of-type {\n",
       "        vertical-align: middle;\n",
       "    }\n",
       "\n",
       "    .dataframe tbody tr th {\n",
       "        vertical-align: top;\n",
       "    }\n",
       "\n",
       "    .dataframe thead th {\n",
       "        text-align: right;\n",
       "    }\n",
       "</style>\n",
       "<table border=\"1\" class=\"dataframe\">\n",
       "  <thead>\n",
       "    <tr style=\"text-align: right;\">\n",
       "      <th></th>\n",
       "      <th>number_of_vehicles</th>\n",
       "      <th>sex_of_driver</th>\n",
       "      <th>urban_or_rural_area</th>\n",
       "      <th>light_conditions</th>\n",
       "      <th>road_type</th>\n",
       "      <th>vehicle_left_hand_drive</th>\n",
       "      <th>first_point_of_impact</th>\n",
       "      <th>age_band_of_driver</th>\n",
       "      <th>age_of_vehicle</th>\n",
       "      <th>driver_home_area_type</th>\n",
       "      <th>vehicle_manoeuvre</th>\n",
       "      <th>road_surface_conditions</th>\n",
       "      <th>accident_severity</th>\n",
       "      <th>age_of_driver</th>\n",
       "      <th>number_of_casualties</th>\n",
       "    </tr>\n",
       "  </thead>\n",
       "  <tbody>\n",
       "    <tr>\n",
       "      <th>count</th>\n",
       "      <td>9600.0</td>\n",
       "      <td>9600.0</td>\n",
       "      <td>9600.0</td>\n",
       "      <td>9600.0</td>\n",
       "      <td>9600.0</td>\n",
       "      <td>9600.0</td>\n",
       "      <td>9600.0</td>\n",
       "      <td>9600.0</td>\n",
       "      <td>9600.0</td>\n",
       "      <td>9600.0</td>\n",
       "      <td>9600.0</td>\n",
       "      <td>9600.0</td>\n",
       "      <td>9600.0</td>\n",
       "      <td>9600.0</td>\n",
       "      <td>9600.0</td>\n",
       "    </tr>\n",
       "    <tr>\n",
       "      <th>mean</th>\n",
       "      <td>2.1</td>\n",
       "      <td>1.6</td>\n",
       "      <td>1.0</td>\n",
       "      <td>2.3</td>\n",
       "      <td>5.1</td>\n",
       "      <td>2.9</td>\n",
       "      <td>2.7</td>\n",
       "      <td>5.0</td>\n",
       "      <td>5.6</td>\n",
       "      <td>0.5</td>\n",
       "      <td>38.6</td>\n",
       "      <td>1.6</td>\n",
       "      <td>2.9</td>\n",
       "      <td>29.5</td>\n",
       "      <td>1.2</td>\n",
       "    </tr>\n",
       "    <tr>\n",
       "      <th>std</th>\n",
       "      <td>0.8</td>\n",
       "      <td>0.8</td>\n",
       "      <td>0.2</td>\n",
       "      <td>1.8</td>\n",
       "      <td>2.0</td>\n",
       "      <td>3.5</td>\n",
       "      <td>2.7</td>\n",
       "      <td>3.5</td>\n",
       "      <td>5.9</td>\n",
       "      <td>0.9</td>\n",
       "      <td>40.3</td>\n",
       "      <td>1.6</td>\n",
       "      <td>0.3</td>\n",
       "      <td>20.8</td>\n",
       "      <td>0.6</td>\n",
       "    </tr>\n",
       "    <tr>\n",
       "      <th>min</th>\n",
       "      <td>1.0</td>\n",
       "      <td>-1.0</td>\n",
       "      <td>1.0</td>\n",
       "      <td>1.0</td>\n",
       "      <td>1.0</td>\n",
       "      <td>-1.0</td>\n",
       "      <td>-1.0</td>\n",
       "      <td>-1.0</td>\n",
       "      <td>-1.0</td>\n",
       "      <td>-1.0</td>\n",
       "      <td>-1.0</td>\n",
       "      <td>1.0</td>\n",
       "      <td>1.0</td>\n",
       "      <td>-1.0</td>\n",
       "      <td>1.0</td>\n",
       "    </tr>\n",
       "    <tr>\n",
       "      <th>25%</th>\n",
       "      <td>2.0</td>\n",
       "      <td>1.0</td>\n",
       "      <td>1.0</td>\n",
       "      <td>1.0</td>\n",
       "      <td>3.0</td>\n",
       "      <td>1.0</td>\n",
       "      <td>1.0</td>\n",
       "      <td>4.0</td>\n",
       "      <td>1.0</td>\n",
       "      <td>-1.0</td>\n",
       "      <td>9.0</td>\n",
       "      <td>1.0</td>\n",
       "      <td>3.0</td>\n",
       "      <td>18.0</td>\n",
       "      <td>1.0</td>\n",
       "    </tr>\n",
       "    <tr>\n",
       "      <th>50%</th>\n",
       "      <td>2.0</td>\n",
       "      <td>1.0</td>\n",
       "      <td>1.0</td>\n",
       "      <td>1.0</td>\n",
       "      <td>6.0</td>\n",
       "      <td>1.0</td>\n",
       "      <td>1.0</td>\n",
       "      <td>6.0</td>\n",
       "      <td>4.0</td>\n",
       "      <td>1.0</td>\n",
       "      <td>18.0</td>\n",
       "      <td>1.0</td>\n",
       "      <td>3.0</td>\n",
       "      <td>31.0</td>\n",
       "      <td>1.0</td>\n",
       "    </tr>\n",
       "    <tr>\n",
       "      <th>75%</th>\n",
       "      <td>2.0</td>\n",
       "      <td>2.0</td>\n",
       "      <td>1.0</td>\n",
       "      <td>4.0</td>\n",
       "      <td>6.0</td>\n",
       "      <td>2.0</td>\n",
       "      <td>3.0</td>\n",
       "      <td>7.0</td>\n",
       "      <td>10.0</td>\n",
       "      <td>1.0</td>\n",
       "      <td>99.0</td>\n",
       "      <td>2.0</td>\n",
       "      <td>3.0</td>\n",
       "      <td>44.0</td>\n",
       "      <td>1.0</td>\n",
       "    </tr>\n",
       "    <tr>\n",
       "      <th>max</th>\n",
       "      <td>8.0</td>\n",
       "      <td>3.0</td>\n",
       "      <td>2.0</td>\n",
       "      <td>7.0</td>\n",
       "      <td>9.0</td>\n",
       "      <td>9.0</td>\n",
       "      <td>9.0</td>\n",
       "      <td>11.0</td>\n",
       "      <td>57.0</td>\n",
       "      <td>3.0</td>\n",
       "      <td>99.0</td>\n",
       "      <td>9.0</td>\n",
       "      <td>3.0</td>\n",
       "      <td>94.0</td>\n",
       "      <td>11.0</td>\n",
       "    </tr>\n",
       "  </tbody>\n",
       "</table>\n",
       "</div>"
      ],
      "text/plain": [
       "       number_of_vehicles  sex_of_driver  urban_or_rural_area  \\\n",
       "count              9600.0         9600.0               9600.0   \n",
       "mean                  2.1            1.6                  1.0   \n",
       "std                   0.8            0.8                  0.2   \n",
       "min                   1.0           -1.0                  1.0   \n",
       "25%                   2.0            1.0                  1.0   \n",
       "50%                   2.0            1.0                  1.0   \n",
       "75%                   2.0            2.0                  1.0   \n",
       "max                   8.0            3.0                  2.0   \n",
       "\n",
       "       light_conditions  road_type  vehicle_left_hand_drive  \\\n",
       "count            9600.0     9600.0                   9600.0   \n",
       "mean                2.3        5.1                      2.9   \n",
       "std                 1.8        2.0                      3.5   \n",
       "min                 1.0        1.0                     -1.0   \n",
       "25%                 1.0        3.0                      1.0   \n",
       "50%                 1.0        6.0                      1.0   \n",
       "75%                 4.0        6.0                      2.0   \n",
       "max                 7.0        9.0                      9.0   \n",
       "\n",
       "       first_point_of_impact  age_band_of_driver  age_of_vehicle  \\\n",
       "count                 9600.0              9600.0          9600.0   \n",
       "mean                     2.7                 5.0             5.6   \n",
       "std                      2.7                 3.5             5.9   \n",
       "min                     -1.0                -1.0            -1.0   \n",
       "25%                      1.0                 4.0             1.0   \n",
       "50%                      1.0                 6.0             4.0   \n",
       "75%                      3.0                 7.0            10.0   \n",
       "max                      9.0                11.0            57.0   \n",
       "\n",
       "       driver_home_area_type  vehicle_manoeuvre  road_surface_conditions  \\\n",
       "count                 9600.0             9600.0                   9600.0   \n",
       "mean                     0.5               38.6                      1.6   \n",
       "std                      0.9               40.3                      1.6   \n",
       "min                     -1.0               -1.0                      1.0   \n",
       "25%                     -1.0                9.0                      1.0   \n",
       "50%                      1.0               18.0                      1.0   \n",
       "75%                      1.0               99.0                      2.0   \n",
       "max                      3.0               99.0                      9.0   \n",
       "\n",
       "       accident_severity  age_of_driver  number_of_casualties  \n",
       "count             9600.0         9600.0                9600.0  \n",
       "mean                 2.9           29.5                   1.2  \n",
       "std                  0.3           20.8                   0.6  \n",
       "min                  1.0           -1.0                   1.0  \n",
       "25%                  3.0           18.0                   1.0  \n",
       "50%                  3.0           31.0                   1.0  \n",
       "75%                  3.0           44.0                   1.0  \n",
       "max                  3.0           94.0                  11.0  "
      ]
     },
     "execution_count": 221,
     "metadata": {},
     "output_type": "execute_result"
    }
   ],
   "source": [
    "trainset.describe().round(1)"
   ]
  },
  {
   "cell_type": "code",
   "execution_count": 222,
   "id": "df667884",
   "metadata": {},
   "outputs": [
    {
     "name": "stdout",
     "output_type": "stream",
     "text": [
      "<class 'pandas.core.frame.DataFrame'>\n",
      "Int64Index: 9600 entries, 190 to 9332\n",
      "Data columns (total 15 columns):\n",
      " #   Column                   Non-Null Count  Dtype\n",
      "---  ------                   --------------  -----\n",
      " 0   number_of_vehicles       9600 non-null   int64\n",
      " 1   sex_of_driver            9600 non-null   int64\n",
      " 2   urban_or_rural_area      9600 non-null   int64\n",
      " 3   light_conditions         9600 non-null   int64\n",
      " 4   road_type                9600 non-null   int64\n",
      " 5   vehicle_left_hand_drive  9600 non-null   int64\n",
      " 6   first_point_of_impact    9600 non-null   int64\n",
      " 7   age_band_of_driver       9600 non-null   int64\n",
      " 8   age_of_vehicle           9600 non-null   int64\n",
      " 9   driver_home_area_type    9600 non-null   int64\n",
      " 10  vehicle_manoeuvre        9600 non-null   int64\n",
      " 11  road_surface_conditions  9600 non-null   int64\n",
      " 12  accident_severity        9600 non-null   int64\n",
      " 13  age_of_driver            9600 non-null   int64\n",
      " 14  number_of_casualties     9600 non-null   int64\n",
      "dtypes: int64(15)\n",
      "memory usage: 1.2 MB\n"
     ]
    }
   ],
   "source": [
    "trainset.info()"
   ]
  },
  {
   "cell_type": "code",
   "execution_count": 223,
   "id": "cc272efe",
   "metadata": {},
   "outputs": [
    {
     "data": {
      "text/plain": [
       "number_of_casualties       1.000000\n",
       "number_of_vehicles         0.190768\n",
       "age_of_vehicle             0.079962\n",
       "age_band_of_driver         0.066241\n",
       "age_of_driver              0.063974\n",
       "urban_or_rural_area        0.049004\n",
       "driver_home_area_type      0.026423\n",
       "light_conditions           0.020411\n",
       "road_surface_conditions   -0.018637\n",
       "road_type                 -0.029651\n",
       "sex_of_driver             -0.049755\n",
       "vehicle_left_hand_drive   -0.054572\n",
       "first_point_of_impact     -0.060095\n",
       "accident_severity         -0.082478\n",
       "vehicle_manoeuvre         -0.102707\n",
       "Name: number_of_casualties, dtype: float64"
      ]
     },
     "execution_count": 223,
     "metadata": {},
     "output_type": "execute_result"
    }
   ],
   "source": [
    "corr_matrix = trainset.corr()\n",
    "corr_matrix['number_of_casualties'].sort_values(ascending=False)"
   ]
  },
  {
   "cell_type": "code",
   "execution_count": 224,
   "id": "ce5de677",
   "metadata": {},
   "outputs": [
    {
     "data": {
      "text/plain": [
       "Index(['number_of_vehicles', 'sex_of_driver', 'urban_or_rural_area',\n",
       "       'light_conditions', 'road_type', 'vehicle_left_hand_drive',\n",
       "       'first_point_of_impact', 'age_band_of_driver', 'age_of_vehicle',\n",
       "       'driver_home_area_type', 'vehicle_manoeuvre', 'road_surface_conditions',\n",
       "       'accident_severity', 'age_of_driver', 'number_of_casualties'],\n",
       "      dtype='object')"
      ]
     },
     "execution_count": 224,
     "metadata": {},
     "output_type": "execute_result"
    }
   ],
   "source": [
    "trainset.columns"
   ]
  },
  {
   "cell_type": "code",
   "execution_count": 225,
   "id": "af34993f",
   "metadata": {},
   "outputs": [
    {
     "data": {
      "text/plain": [
       "1    6050\n",
       "4    2981\n",
       "7     467\n",
       "5      53\n",
       "6      49\n",
       "Name: light_conditions, dtype: int64"
      ]
     },
     "execution_count": 225,
     "metadata": {},
     "output_type": "execute_result"
    }
   ],
   "source": [
    "trainset['light_conditions'].value_counts()"
   ]
  },
  {
   "cell_type": "code",
   "execution_count": 227,
   "id": "b2900547",
   "metadata": {},
   "outputs": [
    {
     "data": {
      "text/html": [
       "<div>\n",
       "<style scoped>\n",
       "    .dataframe tbody tr th:only-of-type {\n",
       "        vertical-align: middle;\n",
       "    }\n",
       "\n",
       "    .dataframe tbody tr th {\n",
       "        vertical-align: top;\n",
       "    }\n",
       "\n",
       "    .dataframe thead th {\n",
       "        text-align: right;\n",
       "    }\n",
       "</style>\n",
       "<table border=\"1\" class=\"dataframe\">\n",
       "  <thead>\n",
       "    <tr style=\"text-align: right;\">\n",
       "      <th></th>\n",
       "      <th>number_of_casualties</th>\n",
       "    </tr>\n",
       "  </thead>\n",
       "  <tbody>\n",
       "    <tr>\n",
       "      <th>count</th>\n",
       "      <td>9600.000000</td>\n",
       "    </tr>\n",
       "    <tr>\n",
       "      <th>mean</th>\n",
       "      <td>1.187812</td>\n",
       "    </tr>\n",
       "    <tr>\n",
       "      <th>std</th>\n",
       "      <td>0.599369</td>\n",
       "    </tr>\n",
       "    <tr>\n",
       "      <th>min</th>\n",
       "      <td>1.000000</td>\n",
       "    </tr>\n",
       "    <tr>\n",
       "      <th>25%</th>\n",
       "      <td>1.000000</td>\n",
       "    </tr>\n",
       "    <tr>\n",
       "      <th>50%</th>\n",
       "      <td>1.000000</td>\n",
       "    </tr>\n",
       "    <tr>\n",
       "      <th>75%</th>\n",
       "      <td>1.000000</td>\n",
       "    </tr>\n",
       "    <tr>\n",
       "      <th>max</th>\n",
       "      <td>11.000000</td>\n",
       "    </tr>\n",
       "  </tbody>\n",
       "</table>\n",
       "</div>"
      ],
      "text/plain": [
       "       number_of_casualties\n",
       "count           9600.000000\n",
       "mean               1.187812\n",
       "std                0.599369\n",
       "min                1.000000\n",
       "25%                1.000000\n",
       "50%                1.000000\n",
       "75%                1.000000\n",
       "max               11.000000"
      ]
     },
     "execution_count": 227,
     "metadata": {},
     "output_type": "execute_result"
    }
   ],
   "source": [
    "pd.DataFrame(trainset.loc[:,'number_of_casualties'].describe())"
   ]
  },
  {
   "cell_type": "code",
   "execution_count": 228,
   "id": "3478624b",
   "metadata": {},
   "outputs": [
    {
     "data": {
      "text/html": [
       "<div>\n",
       "<style scoped>\n",
       "    .dataframe tbody tr th:only-of-type {\n",
       "        vertical-align: middle;\n",
       "    }\n",
       "\n",
       "    .dataframe tbody tr th {\n",
       "        vertical-align: top;\n",
       "    }\n",
       "\n",
       "    .dataframe thead th {\n",
       "        text-align: right;\n",
       "    }\n",
       "</style>\n",
       "<table border=\"1\" class=\"dataframe\">\n",
       "  <thead>\n",
       "    <tr style=\"text-align: right;\">\n",
       "      <th></th>\n",
       "      <th>number_of_vehicles</th>\n",
       "    </tr>\n",
       "  </thead>\n",
       "  <tbody>\n",
       "    <tr>\n",
       "      <th>count</th>\n",
       "      <td>9600.000000</td>\n",
       "    </tr>\n",
       "    <tr>\n",
       "      <th>mean</th>\n",
       "      <td>2.051250</td>\n",
       "    </tr>\n",
       "    <tr>\n",
       "      <th>std</th>\n",
       "      <td>0.768615</td>\n",
       "    </tr>\n",
       "    <tr>\n",
       "      <th>min</th>\n",
       "      <td>1.000000</td>\n",
       "    </tr>\n",
       "    <tr>\n",
       "      <th>25%</th>\n",
       "      <td>2.000000</td>\n",
       "    </tr>\n",
       "    <tr>\n",
       "      <th>50%</th>\n",
       "      <td>2.000000</td>\n",
       "    </tr>\n",
       "    <tr>\n",
       "      <th>75%</th>\n",
       "      <td>2.000000</td>\n",
       "    </tr>\n",
       "    <tr>\n",
       "      <th>max</th>\n",
       "      <td>8.000000</td>\n",
       "    </tr>\n",
       "  </tbody>\n",
       "</table>\n",
       "</div>"
      ],
      "text/plain": [
       "       number_of_vehicles\n",
       "count         9600.000000\n",
       "mean             2.051250\n",
       "std              0.768615\n",
       "min              1.000000\n",
       "25%              2.000000\n",
       "50%              2.000000\n",
       "75%              2.000000\n",
       "max              8.000000"
      ]
     },
     "execution_count": 228,
     "metadata": {},
     "output_type": "execute_result"
    }
   ],
   "source": [
    "pd.DataFrame(trainset.loc[:,'number_of_vehicles'].describe())"
   ]
  },
  {
   "cell_type": "code",
   "execution_count": 231,
   "id": "608d8683",
   "metadata": {},
   "outputs": [],
   "source": [
    "trainset['road_surface_conditions'] = trainset['road_surface_conditions'].astype(object)\n",
    "trainset['light_conditions'] = trainset['light_conditions'].astype(object)\n",
    "trainset['urban_or_rural_area'] = trainset['urban_or_rural_area'].astype(object)\n",
    "trainset['road_type'] = trainset['road_type'].astype(object)\n",
    "trainset['sex_of_driver'] = trainset['sex_of_driver'].astype(object)\n",
    "trainset['vehicle_left_hand_drive'] = trainset['vehicle_left_hand_drive'].astype(object)\n",
    "trainset['first_point_of_impact'] = trainset['first_point_of_impact'].astype(object)\n",
    "trainset['age_band_of_driver'] = trainset['age_band_of_driver'].astype(object)\n",
    "trainset['driver_home_area_type'] = trainset['driver_home_area_type'].astype(object)\n",
    "trainset['vehicle_manoeuvre'] = trainset['vehicle_manoeuvre'].astype(object)\n",
    "trainset['accident_severity'] = trainset['accident_severity'].astype(object)"
   ]
  },
  {
   "cell_type": "code",
   "execution_count": 232,
   "id": "760c5b64",
   "metadata": {},
   "outputs": [],
   "source": [
    "testset['road_surface_conditions'] = testset['road_surface_conditions'].astype(object)\n",
    "testset['light_conditions'] = testset['light_conditions'].astype(object)\n",
    "testset['urban_or_rural_area'] = testset['urban_or_rural_area'].astype(object)\n",
    "testset['road_type'] = testset['road_type'].astype(object)\n",
    "testset['sex_of_driver'] = testset['sex_of_driver'].astype(object)\n",
    "testset['vehicle_left_hand_drive'] = testset['vehicle_left_hand_drive'].astype(object)\n",
    "testset['first_point_of_impact'] = testset['first_point_of_impact'].astype(object)\n",
    "testset['age_band_of_driver'] = testset['age_band_of_driver'].astype(object)\n",
    "testset['driver_home_area_type'] = testset['driver_home_area_type'].astype(object)\n",
    "testset['vehicle_manoeuvre'] = testset['vehicle_manoeuvre'].astype(object)\n",
    "testset['accident_severity'] = testset['accident_severity'].astype(object)"
   ]
  },
  {
   "cell_type": "code",
   "execution_count": 233,
   "id": "73d433df",
   "metadata": {},
   "outputs": [
    {
     "name": "stdout",
     "output_type": "stream",
     "text": [
      "<class 'pandas.core.frame.DataFrame'>\n",
      "Int64Index: 9600 entries, 190 to 9332\n",
      "Data columns (total 15 columns):\n",
      " #   Column                   Non-Null Count  Dtype \n",
      "---  ------                   --------------  ----- \n",
      " 0   number_of_vehicles       9600 non-null   int64 \n",
      " 1   sex_of_driver            9600 non-null   object\n",
      " 2   urban_or_rural_area      9600 non-null   object\n",
      " 3   light_conditions         9600 non-null   object\n",
      " 4   road_type                9600 non-null   object\n",
      " 5   vehicle_left_hand_drive  9600 non-null   object\n",
      " 6   first_point_of_impact    9600 non-null   object\n",
      " 7   age_band_of_driver       9600 non-null   object\n",
      " 8   age_of_vehicle           9600 non-null   int64 \n",
      " 9   driver_home_area_type    9600 non-null   object\n",
      " 10  vehicle_manoeuvre        9600 non-null   object\n",
      " 11  road_surface_conditions  9600 non-null   object\n",
      " 12  accident_severity        9600 non-null   object\n",
      " 13  age_of_driver            9600 non-null   int64 \n",
      " 14  number_of_casualties     9600 non-null   int64 \n",
      "dtypes: int64(4), object(11)\n",
      "memory usage: 1.2+ MB\n"
     ]
    }
   ],
   "source": [
    "trainset.info()"
   ]
  },
  {
   "cell_type": "code",
   "execution_count": 234,
   "id": "a84fe59d",
   "metadata": {},
   "outputs": [
    {
     "name": "stdout",
     "output_type": "stream",
     "text": [
      "<class 'pandas.core.frame.DataFrame'>\n",
      "Int64Index: 2400 entries, 10588 to 8488\n",
      "Data columns (total 15 columns):\n",
      " #   Column                   Non-Null Count  Dtype \n",
      "---  ------                   --------------  ----- \n",
      " 0   number_of_vehicles       2400 non-null   int64 \n",
      " 1   sex_of_driver            2400 non-null   object\n",
      " 2   urban_or_rural_area      2400 non-null   object\n",
      " 3   light_conditions         2400 non-null   object\n",
      " 4   road_type                2400 non-null   object\n",
      " 5   vehicle_left_hand_drive  2400 non-null   object\n",
      " 6   first_point_of_impact    2400 non-null   object\n",
      " 7   age_band_of_driver       2400 non-null   object\n",
      " 8   age_of_vehicle           2400 non-null   int64 \n",
      " 9   driver_home_area_type    2400 non-null   object\n",
      " 10  vehicle_manoeuvre        2400 non-null   object\n",
      " 11  road_surface_conditions  2400 non-null   object\n",
      " 12  accident_severity        2400 non-null   object\n",
      " 13  age_of_driver            2400 non-null   int64 \n",
      " 14  number_of_casualties     2400 non-null   int64 \n",
      "dtypes: int64(4), object(11)\n",
      "memory usage: 300.0+ KB\n"
     ]
    }
   ],
   "source": [
    "testset.info()"
   ]
  },
  {
   "cell_type": "code",
   "execution_count": 235,
   "id": "91338459",
   "metadata": {},
   "outputs": [
    {
     "data": {
      "text/plain": [
       "<AxesSubplot:xlabel='number_of_vehicles', ylabel='Count'>"
      ]
     },
     "execution_count": 235,
     "metadata": {},
     "output_type": "execute_result"
    },
    {
     "data": {
      "image/png": "[encoded data removed]",
      "text/plain": [
       "<Figure size 432x288 with 1 Axes>"
      ]
     },
     "metadata": {
      "needs_background": "light"
     },
     "output_type": "display_data"
    }
   ],
   "source": [
    "sns.histplot(data=trainset, x='number_of_vehicles')"
   ]
  },
  {
   "cell_type": "code",
   "execution_count": 236,
   "id": "56d01cdb",
   "metadata": {},
   "outputs": [
    {
     "data": {
      "text/plain": [
       "<AxesSubplot:xlabel='number_of_casualties', ylabel='Count'>"
      ]
     },
     "execution_count": 236,
     "metadata": {},
     "output_type": "execute_result"
    },
    {
     "data": {
      "image/png": "[encoded data removed]",
      "text/plain": [
       "<Figure size 432x288 with 1 Axes>"
      ]
     },
     "metadata": {
      "needs_background": "light"
     },
     "output_type": "display_data"
    }
   ],
   "source": [
    "sns.histplot(data=trainset, x='number_of_casualties')"
   ]
  },
  {
   "cell_type": "code",
   "execution_count": 237,
   "id": "71374cb8",
   "metadata": {},
   "outputs": [
    {
     "data": {
      "text/plain": [
       "<AxesSubplot:xlabel='urban_or_rural_area', ylabel='count'>"
      ]
     },
     "execution_count": 237,
     "metadata": {},
     "output_type": "execute_result"
    },
    {
     "data": {
      "image/png": "[encoded data removed]",
      "text/plain": [
       "<Figure size 432x288 with 1 Axes>"
      ]
     },
     "metadata": {
      "needs_background": "light"
     },
     "output_type": "display_data"
    }
   ],
   "source": [
    "sns.countplot(data=trainset, x='urban_or_rural_area')"
   ]
  },
  {
   "cell_type": "code",
   "execution_count": 239,
   "id": "a62a5efa",
   "metadata": {},
   "outputs": [
    {
     "data": {
      "text/plain": [
       "<AxesSubplot:xlabel='number_of_vehicles'>"
      ]
     },
     "execution_count": 239,
     "metadata": {},
     "output_type": "execute_result"
    },
    {
     "data": {
      "image/png": "[encoded data removed]",
      "text/plain": [
       "<Figure size 432x288 with 1 Axes>"
      ]
     },
     "metadata": {
      "needs_background": "light"
     },
     "output_type": "display_data"
    }
   ],
   "source": [
    "sns.boxplot(data=trainset, x='number_of_vehicles')"
   ]
  },
  {
   "cell_type": "code",
   "execution_count": 240,
   "id": "06e96a1b",
   "metadata": {},
   "outputs": [
    {
     "data": {
      "text/plain": [
       "<AxesSubplot:xlabel='number_of_casualties'>"
      ]
     },
     "execution_count": 240,
     "metadata": {},
     "output_type": "execute_result"
    },
    {
     "data": {
      "image/png": "[encoded data removed]",
      "text/plain": [
       "<Figure size 432x288 with 1 Axes>"
      ]
     },
     "metadata": {
      "needs_background": "light"
     },
     "output_type": "display_data"
    }
   ],
   "source": [
    "sns.boxplot(data=trainset, x='number_of_casualties')"
   ]
  },
  {
   "cell_type": "code",
   "execution_count": 241,
   "id": "dcb106b7",
   "metadata": {},
   "outputs": [
    {
     "data": {
      "text/plain": [
       "<AxesSubplot:xlabel='number_of_vehicles', ylabel='number_of_casualties'>"
      ]
     },
     "execution_count": 241,
     "metadata": {},
     "output_type": "execute_result"
    },
    {
     "data": {
      "image/png": "[encoded data removed]",
      "text/plain": [
       "<Figure size 432x288 with 1 Axes>"
      ]
     },
     "metadata": {
      "needs_background": "light"
     },
     "output_type": "display_data"
    }
   ],
   "source": [
    "sns.scatterplot(data=trainset, x='number_of_vehicles', y='number_of_casualties')"
   ]
  },
  {
   "cell_type": "code",
   "execution_count": 242,
   "id": "d92e65b6",
   "metadata": {},
   "outputs": [
    {
     "data": {
      "text/plain": [
       "<AxesSubplot:xlabel='number_of_vehicles'>"
      ]
     },
     "execution_count": 242,
     "metadata": {},
     "output_type": "execute_result"
    },
    {
     "data": {
      "image/png": "[encoded data removed]",
      "text/plain": [
       "<Figure size 432x288 with 1 Axes>"
      ]
     },
     "metadata": {
      "needs_background": "light"
     },
     "output_type": "display_data"
    }
   ],
   "source": [
    "sns.violinplot(data=trainset, x='number_of_vehicles')"
   ]
  },
  {
   "cell_type": "code",
   "execution_count": 243,
   "id": "795a17df",
   "metadata": {},
   "outputs": [
    {
     "data": {
      "text/plain": [
       "<AxesSubplot:xlabel='accident_severity', ylabel='count'>"
      ]
     },
     "execution_count": 243,
     "metadata": {},
     "output_type": "execute_result"
    },
    {
     "data": {
      "image/png": "[encoded data removed]",
      "text/plain": [
       "<Figure size 432x288 with 1 Axes>"
      ]
     },
     "metadata": {
      "needs_background": "light"
     },
     "output_type": "display_data"
    }
   ],
   "source": [
    "sns.countplot(data=trainset, x='accident_severity')"
   ]
  },
  {
   "cell_type": "code",
   "execution_count": 244,
   "id": "78762d19",
   "metadata": {},
   "outputs": [],
   "source": [
    "def acc_sev(accident_severity):\n",
    "    if accident_severity == 1:\n",
    "        return \"Fatal\"\n",
    "    elif accident_severity == 2:\n",
    "        return \"Serious\"\n",
    "    else:\n",
    "        return \"Slight\""
   ]
  },
  {
   "cell_type": "code",
   "execution_count": 245,
   "id": "270981c6",
   "metadata": {},
   "outputs": [],
   "source": [
    "trainset['accident_sev'] = trainset['accident_severity'].apply(acc_sev)\n",
    "testset['accident_sev'] = testset['accident_severity'].apply(acc_sev)"
   ]
  },
  {
   "cell_type": "code",
   "execution_count": 246,
   "id": "4c71d09b",
   "metadata": {},
   "outputs": [
    {
     "data": {
      "text/html": [
       "<div>\n",
       "<style scoped>\n",
       "    .dataframe tbody tr th:only-of-type {\n",
       "        vertical-align: middle;\n",
       "    }\n",
       "\n",
       "    .dataframe tbody tr th {\n",
       "        vertical-align: top;\n",
       "    }\n",
       "\n",
       "    .dataframe thead th {\n",
       "        text-align: right;\n",
       "    }\n",
       "</style>\n",
       "<table border=\"1\" class=\"dataframe\">\n",
       "  <thead>\n",
       "    <tr style=\"text-align: right;\">\n",
       "      <th></th>\n",
       "      <th>accident_severity</th>\n",
       "      <th>accident_sev</th>\n",
       "    </tr>\n",
       "  </thead>\n",
       "  <tbody>\n",
       "    <tr>\n",
       "      <th>190</th>\n",
       "      <td>3</td>\n",
       "      <td>Slight</td>\n",
       "    </tr>\n",
       "    <tr>\n",
       "      <th>5367</th>\n",
       "      <td>3</td>\n",
       "      <td>Slight</td>\n",
       "    </tr>\n",
       "    <tr>\n",
       "      <th>4223</th>\n",
       "      <td>3</td>\n",
       "      <td>Slight</td>\n",
       "    </tr>\n",
       "    <tr>\n",
       "      <th>11630</th>\n",
       "      <td>2</td>\n",
       "      <td>Serious</td>\n",
       "    </tr>\n",
       "    <tr>\n",
       "      <th>6058</th>\n",
       "      <td>3</td>\n",
       "      <td>Slight</td>\n",
       "    </tr>\n",
       "  </tbody>\n",
       "</table>\n",
       "</div>"
      ],
      "text/plain": [
       "      accident_severity accident_sev\n",
       "190                   3       Slight\n",
       "5367                  3       Slight\n",
       "4223                  3       Slight\n",
       "11630                 2      Serious\n",
       "6058                  3       Slight"
      ]
     },
     "execution_count": 246,
     "metadata": {},
     "output_type": "execute_result"
    }
   ],
   "source": [
    "trainset.head()[['accident_severity','accident_sev']]"
   ]
  },
  {
   "cell_type": "code",
   "execution_count": 247,
   "id": "6a1696f8",
   "metadata": {},
   "outputs": [],
   "source": [
    "trainset = trainset.drop('accident_severity', axis=1)\n",
    "testset = testset.drop('accident_severity', axis=1)"
   ]
  },
  {
   "cell_type": "code",
   "execution_count": 248,
   "id": "e4fca810",
   "metadata": {},
   "outputs": [
    {
     "name": "stdout",
     "output_type": "stream",
     "text": [
      "(9600, 15)\n",
      "(2400, 15)\n"
     ]
    }
   ],
   "source": [
    "print(trainset.shape)\n",
    "print(testset.shape)"
   ]
  },
  {
   "cell_type": "code",
   "execution_count": 249,
   "id": "71d5f057",
   "metadata": {},
   "outputs": [],
   "source": [
    "trainset = trainset.replace(-1, np.nan)\n",
    "testset = testset.replace(-1, np.nan)"
   ]
  },
  {
   "cell_type": "code",
   "execution_count": 250,
   "id": "0eabab18",
   "metadata": {},
   "outputs": [],
   "source": [
    "trainset.dropna(inplace=True)\n",
    "testset.dropna(inplace=True)"
   ]
  },
  {
   "cell_type": "code",
   "execution_count": 251,
   "id": "0639dd60",
   "metadata": {},
   "outputs": [
    {
     "data": {
      "text/plain": [
       "number_of_vehicles         0\n",
       "sex_of_driver              0\n",
       "urban_or_rural_area        0\n",
       "light_conditions           0\n",
       "road_type                  0\n",
       "vehicle_left_hand_drive    0\n",
       "first_point_of_impact      0\n",
       "age_band_of_driver         0\n",
       "age_of_vehicle             0\n",
       "driver_home_area_type      0\n",
       "vehicle_manoeuvre          0\n",
       "road_surface_conditions    0\n",
       "age_of_driver              0\n",
       "number_of_casualties       0\n",
       "accident_sev               0\n",
       "dtype: int64"
      ]
     },
     "execution_count": 251,
     "metadata": {},
     "output_type": "execute_result"
    }
   ],
   "source": [
    "trainset.isnull().sum()"
   ]
  },
  {
   "cell_type": "code",
   "execution_count": 252,
   "id": "a9c48a08",
   "metadata": {},
   "outputs": [],
   "source": [
    "X_train = trainset.drop('number_of_casualties', axis=1)\n",
    "y_train = trainset['number_of_casualties']\n",
    "\n",
    "X_test = testset.drop('number_of_casualties', axis=1)\n",
    "y_test = testset['number_of_casualties']"
   ]
  },
  {
   "cell_type": "code",
   "execution_count": 253,
   "id": "efa40b5d",
   "metadata": {},
   "outputs": [],
   "source": [
    "X_train = pd.get_dummies(X_train, drop_first=True)\n",
    "X_test = pd.get_dummies(X_test, drop_first=True)"
   ]
  },
  {
   "cell_type": "code",
   "execution_count": 254,
   "id": "423182ff",
   "metadata": {},
   "outputs": [
    {
     "data": {
      "text/plain": [
       "(5170, 15)"
      ]
     },
     "execution_count": 254,
     "metadata": {},
     "output_type": "execute_result"
    }
   ],
   "source": [
    "X_train.shape"
   ]
  },
  {
   "cell_type": "code",
   "execution_count": 255,
   "id": "7d1adc4d",
   "metadata": {},
   "outputs": [
    {
     "data": {
      "text/plain": [
       "(1302, 15)"
      ]
     },
     "execution_count": 255,
     "metadata": {},
     "output_type": "execute_result"
    }
   ],
   "source": [
    "X_test.shape"
   ]
  },
  {
   "cell_type": "code",
   "execution_count": 256,
   "id": "1287b9e7",
   "metadata": {},
   "outputs": [
    {
     "data": {
      "text/plain": [
       "(5170,)"
      ]
     },
     "execution_count": 256,
     "metadata": {},
     "output_type": "execute_result"
    }
   ],
   "source": [
    "y_train.shape"
   ]
  },
  {
   "cell_type": "code",
   "execution_count": 257,
   "id": "8d767130",
   "metadata": {},
   "outputs": [
    {
     "data": {
      "text/plain": [
       "(1302,)"
      ]
     },
     "execution_count": 257,
     "metadata": {},
     "output_type": "execute_result"
    }
   ],
   "source": [
    "y_test.shape"
   ]
  },
  {
   "cell_type": "code",
   "execution_count": 258,
   "id": "2813d816",
   "metadata": {},
   "outputs": [],
   "source": [
    "from sklearn.preprocessing import StandardScaler"
   ]
  },
  {
   "cell_type": "code",
   "execution_count": 259,
   "id": "1cb825fc",
   "metadata": {},
   "outputs": [],
   "source": [
    "scaler = StandardScaler()"
   ]
  },
  {
   "cell_type": "code",
   "execution_count": 260,
   "id": "8deb53fe",
   "metadata": {},
   "outputs": [],
   "source": [
    "X_train = scaler.fit_transform(X_train)"
   ]
  },
  {
   "cell_type": "code",
   "execution_count": 261,
   "id": "911c98c7",
   "metadata": {},
   "outputs": [],
   "source": [
    "X_test = scaler.transform(X_test)"
   ]
  },
  {
   "cell_type": "code",
   "execution_count": 262,
   "id": "4bdc0c82",
   "metadata": {},
   "outputs": [
    {
     "data": {
      "application/javascript": [
       "var nb = IPython.notebook;\n",
       "var kernel = IPython.notebook.kernel;\n",
       "var command = \"NOTEBOOK_FULL_PATH = '\" + nb.notebook_path + \"'\";\n",
       "kernel.execute(command);\n"
      ],
      "text/plain": [
       "<IPython.core.display.Javascript object>"
      ]
     },
     "metadata": {},
     "output_type": "display_data"
    }
   ],
   "source": [
    "%%javascript\n",
    "var nb = IPython.notebook;\n",
    "var kernel = IPython.notebook.kernel;\n",
    "var command = \"NOTEBOOK_FULL_PATH = '\" + nb.notebook_path + \"'\";\n",
    "kernel.execute(command);"
   ]
  },
  {
   "cell_type": "code",
   "execution_count": 263,
   "id": "f068e049",
   "metadata": {},
   "outputs": [
    {
     "name": "stdout",
     "output_type": "stream",
     "text": [
      "Word count: 12\n"
     ]
    }
   ],
   "source": [
    "import io\n",
    "from nbformat import read, NO_CONVERT\n",
    "\n",
    "with io.open(NOTEBOOK_FULL_PATH.split(\"/\")[-1], 'r', encoding='utf-8') as f:\n",
    "    nb = read(f, NO_CONVERT)\n",
    "\n",
    "word_count = 0\n",
    "for cell in nb.cells:\n",
    "    if cell.cell_type == \"markdown\":\n",
    "        word_count += len(cell['source'].replace('#', '').lstrip().split(' '))\n",
    "print(f\"Word count: {word_count}\")"
   ]
  }
 ],
 "metadata": {
  "kernelspec": {
   "display_name": "Python 3 (ipykernel)",
   "language": "python",
   "name": "python3"
  },
  "language_info": {
   "codemirror_mode": {
    "name": "ipython",
    "version": 3
   },
   "file_extension": ".py",
   "mimetype": "text/x-python",
   "name": "python",
   "nbconvert_exporter": "python",
   "pygments_lexer": "ipython3",
   "version": "3.9.12"
  }
 },
 "nbformat": 4,
 "nbformat_minor": 5
}
