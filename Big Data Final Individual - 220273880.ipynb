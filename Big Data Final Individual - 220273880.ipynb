{
 "cells": [
  {
   "attachments": {},
   "cell_type": "markdown",
   "id": "f7f4f8c5",
   "metadata": {},
   "source": [
    "# Individual Assignment Submission - 220273880"
   ]
  },
  {
   "attachments": {},
   "cell_type": "markdown",
   "id": "4ad15e92",
   "metadata": {},
   "source": [
    "# ROAD CASUALITY ANALYSIS"
   ]
  },
  {
   "attachments": {},
   "cell_type": "markdown",
   "id": "ac3b7e9b",
   "metadata": {},
   "source": [
    "## Table of content\n",
    "    1. Introduction\n",
    "    2. Obejctive\n",
    "    3. Data Processing\n",
    "    4. Baseline Model\n",
    "    5. Models for Analysis\n",
    "    6. Cross Validation\n",
    "    7. Hyperparameter tuning and Model evaluation\n",
    "    8. Conclusion"
   ]
  },
  {
   "attachments": {},
   "cell_type": "markdown",
   "id": "ab4802ed",
   "metadata": {},
   "source": [
    "# Introduction\n",
    "\n",
    "For this portfolio, I will be analysing the statistics on traffic safety in the UK.This will be done by utilising the databases for statistics on car casualties and statistics on casualties from accidents.\n"
   ]
  },
  {
   "attachments": {},
   "cell_type": "markdown",
   "id": "c244dbdb",
   "metadata": {},
   "source": [
    "# Objective\n",
    "Our objective is to predict the number of fatalities by combining two datasets.we have considered Two databases for the study from our group assignment. We need to also consider a few other important factors that are essential for performing a comprehensive analysis. This will benefit the Emergency Management Agency because fewer mishaps will happen as a result of such events, and they may even be able to lower the number of fatalities. We are addressing our regression issue by choosing the essential elements as our models and even investigating the feature significance of these variables."
   ]
  },
  {
   "attachments": {},
   "cell_type": "markdown",
   "id": "36ba976a",
   "metadata": {},
   "source": [
    "Target Variable = Number of casualities"
   ]
  },
  {
   "cell_type": "code",
   "execution_count": 23,
   "id": "9819f44b",
   "metadata": {},
   "outputs": [],
   "source": [
    "# Importing Libraries for our analysis\n",
    "\n",
    "import pandas as pd\n",
    "import numpy as np\n",
    "import matplotlib.pyplot as plt\n",
    "from sklearn.preprocessing import LabelEncoder\n",
    "from sklearn.preprocessing import StandardScaler\n",
    "from sklearn.linear_model import LinearRegression\n",
    "from sklearn.metrics import r2_score\n",
    "from sklearn.tree import DecisionTreeRegressor\n",
    "from sklearn.metrics import mean_squared_error\n",
    "from sklearn.neighbors import KNeighborsRegressor\n",
    "from sklearn.ensemble import RandomForestRegressor\n",
    "from sklearn.model_selection import cross_val_score, RandomizedSearchCV\n",
    "import warnings\n",
    "warnings.filterwarnings('ignore')\n",
    "pd.set_option('display.max_columns', None)"
   ]
  },
  {
   "cell_type": "code",
   "execution_count": 25,
   "id": "d912371f",
   "metadata": {},
   "outputs": [],
   "source": [
    "# Loading the excel file\n",
    "\n",
    "df_train = pd.read_excel('C:\\\\Users\\\\Vijay\\\\Downloads\\\\trainset1.xlsx')\n",
    "df_test = pd.read_excel('C:\\\\Users\\\\Vijay\\\\Downloads\\\\testset1.xlsx')"
   ]
  },
  {
   "cell_type": "code",
   "execution_count": 26,
   "id": "9a675e2a",
   "metadata": {},
   "outputs": [
    {
     "name": "stdout",
     "output_type": "stream",
     "text": [
      "(5170, 16)\n",
      "(1302, 16)\n"
     ]
    }
   ],
   "source": [
    "print(df_train.shape)\n",
    "print(df_test.shape)"
   ]
  },
  {
   "attachments": {},
   "cell_type": "markdown",
   "id": "55a0371e",
   "metadata": {},
   "source": [
    "There are 5170 Rows and 16 Columns in our Training set and 1302 Rows and 16 Column in out Testing set"
   ]
  },
  {
   "cell_type": "code",
   "execution_count": 5,
   "id": "1668ffa1",
   "metadata": {},
   "outputs": [
    {
     "data": {
      "text/html": [
       "<div>\n",
       "<style scoped>\n",
       "    .dataframe tbody tr th:only-of-type {\n",
       "        vertical-align: middle;\n",
       "    }\n",
       "\n",
       "    .dataframe tbody tr th {\n",
       "        vertical-align: top;\n",
       "    }\n",
       "\n",
       "    .dataframe thead th {\n",
       "        text-align: right;\n",
       "    }\n",
       "</style>\n",
       "<table border=\"1\" class=\"dataframe\">\n",
       "  <thead>\n",
       "    <tr style=\"text-align: right;\">\n",
       "      <th></th>\n",
       "      <th>Unnamed: 0</th>\n",
       "      <th>number_of_vehicles</th>\n",
       "      <th>sex_of_driver</th>\n",
       "      <th>urban_or_rural_area</th>\n",
       "      <th>light_conditions</th>\n",
       "      <th>road_type</th>\n",
       "      <th>vehicle_left_hand_drive</th>\n",
       "      <th>first_point_of_impact</th>\n",
       "      <th>age_band_of_driver</th>\n",
       "      <th>age_of_vehicle</th>\n",
       "      <th>driver_home_area_type</th>\n",
       "      <th>vehicle_manoeuvre</th>\n",
       "      <th>road_surface_conditions</th>\n",
       "      <th>age_of_driver</th>\n",
       "      <th>number_of_casualties</th>\n",
       "      <th>accident_sev</th>\n",
       "    </tr>\n",
       "  </thead>\n",
       "  <tbody>\n",
       "    <tr>\n",
       "      <th>0</th>\n",
       "      <td>190</td>\n",
       "      <td>2</td>\n",
       "      <td>1</td>\n",
       "      <td>1</td>\n",
       "      <td>4</td>\n",
       "      <td>6</td>\n",
       "      <td>1</td>\n",
       "      <td>3</td>\n",
       "      <td>5</td>\n",
       "      <td>10</td>\n",
       "      <td>1</td>\n",
       "      <td>17</td>\n",
       "      <td>1</td>\n",
       "      <td>25</td>\n",
       "      <td>1</td>\n",
       "      <td>Slight</td>\n",
       "    </tr>\n",
       "    <tr>\n",
       "      <th>1</th>\n",
       "      <td>5367</td>\n",
       "      <td>2</td>\n",
       "      <td>1</td>\n",
       "      <td>1</td>\n",
       "      <td>4</td>\n",
       "      <td>3</td>\n",
       "      <td>2</td>\n",
       "      <td>0</td>\n",
       "      <td>7</td>\n",
       "      <td>15</td>\n",
       "      <td>1</td>\n",
       "      <td>11</td>\n",
       "      <td>1</td>\n",
       "      <td>40</td>\n",
       "      <td>1</td>\n",
       "      <td>Slight</td>\n",
       "    </tr>\n",
       "    <tr>\n",
       "      <th>2</th>\n",
       "      <td>6708</td>\n",
       "      <td>7</td>\n",
       "      <td>2</td>\n",
       "      <td>1</td>\n",
       "      <td>1</td>\n",
       "      <td>7</td>\n",
       "      <td>1</td>\n",
       "      <td>1</td>\n",
       "      <td>7</td>\n",
       "      <td>4</td>\n",
       "      <td>1</td>\n",
       "      <td>18</td>\n",
       "      <td>2</td>\n",
       "      <td>38</td>\n",
       "      <td>1</td>\n",
       "      <td>Slight</td>\n",
       "    </tr>\n",
       "    <tr>\n",
       "      <th>3</th>\n",
       "      <td>5238</td>\n",
       "      <td>2</td>\n",
       "      <td>2</td>\n",
       "      <td>1</td>\n",
       "      <td>7</td>\n",
       "      <td>6</td>\n",
       "      <td>9</td>\n",
       "      <td>2</td>\n",
       "      <td>6</td>\n",
       "      <td>1</td>\n",
       "      <td>1</td>\n",
       "      <td>99</td>\n",
       "      <td>2</td>\n",
       "      <td>29</td>\n",
       "      <td>1</td>\n",
       "      <td>Slight</td>\n",
       "    </tr>\n",
       "    <tr>\n",
       "      <th>4</th>\n",
       "      <td>3349</td>\n",
       "      <td>1</td>\n",
       "      <td>1</td>\n",
       "      <td>1</td>\n",
       "      <td>4</td>\n",
       "      <td>6</td>\n",
       "      <td>9</td>\n",
       "      <td>9</td>\n",
       "      <td>10</td>\n",
       "      <td>3</td>\n",
       "      <td>1</td>\n",
       "      <td>99</td>\n",
       "      <td>1</td>\n",
       "      <td>68</td>\n",
       "      <td>1</td>\n",
       "      <td>Slight</td>\n",
       "    </tr>\n",
       "  </tbody>\n",
       "</table>\n",
       "</div>"
      ],
      "text/plain": [
       "   Unnamed: 0  number_of_vehicles  sex_of_driver  urban_or_rural_area  \\\n",
       "0         190                   2              1                    1   \n",
       "1        5367                   2              1                    1   \n",
       "2        6708                   7              2                    1   \n",
       "3        5238                   2              2                    1   \n",
       "4        3349                   1              1                    1   \n",
       "\n",
       "   light_conditions  road_type  vehicle_left_hand_drive  \\\n",
       "0                 4          6                        1   \n",
       "1                 4          3                        2   \n",
       "2                 1          7                        1   \n",
       "3                 7          6                        9   \n",
       "4                 4          6                        9   \n",
       "\n",
       "   first_point_of_impact  age_band_of_driver  age_of_vehicle  \\\n",
       "0                      3                   5              10   \n",
       "1                      0                   7              15   \n",
       "2                      1                   7               4   \n",
       "3                      2                   6               1   \n",
       "4                      9                  10               3   \n",
       "\n",
       "   driver_home_area_type  vehicle_manoeuvre  road_surface_conditions  \\\n",
       "0                      1                 17                        1   \n",
       "1                      1                 11                        1   \n",
       "2                      1                 18                        2   \n",
       "3                      1                 99                        2   \n",
       "4                      1                 99                        1   \n",
       "\n",
       "   age_of_driver  number_of_casualties accident_sev  \n",
       "0             25                     1       Slight  \n",
       "1             40                     1       Slight  \n",
       "2             38                     1       Slight  \n",
       "3             29                     1       Slight  \n",
       "4             68                     1       Slight  "
      ]
     },
     "execution_count": 5,
     "metadata": {},
     "output_type": "execute_result"
    }
   ],
   "source": [
    "df_train.head()"
   ]
  },
  {
   "cell_type": "code",
   "execution_count": 28,
   "id": "88628de2",
   "metadata": {},
   "outputs": [
    {
     "data": {
      "text/plain": [
       "Slight     4525\n",
       "Serious     613\n",
       "Fatal        32\n",
       "Name: accident_sev, dtype: int64"
      ]
     },
     "execution_count": 28,
     "metadata": {},
     "output_type": "execute_result"
    }
   ],
   "source": [
    "# checking the value counts of accident severity in the training dataset\n",
    "\n",
    "df_train['accident_sev'].value_counts()"
   ]
  },
  {
   "cell_type": "code",
   "execution_count": 31,
   "id": "15f7a2b4",
   "metadata": {},
   "outputs": [],
   "source": [
    "# converting the categorical feature levels into numerical values\n",
    "\n",
    "le = LabelEncoder()\n",
    "\n",
    "df_train['accident_sev'] = le.fit_transform(df_train['accident_sev'])\n",
    "df_test['accident_sev'] = le.fit_transform(df_test['accident_sev'])"
   ]
  },
  {
   "attachments": {},
   "cell_type": "markdown",
   "id": "d4b14d05",
   "metadata": {},
   "source": [
    "## Data Preprocessing \n",
    "Every data analysis project must start with data preprocessing. Data must be cleaned, transformed, and made ready for analysis."
   ]
  },
  {
   "cell_type": "code",
   "execution_count": 8,
   "id": "e00aa8f5",
   "metadata": {},
   "outputs": [],
   "source": [
    "x_train = df_train.drop(['number_of_casualties'], axis=1)\n",
    "y_train = df_train['number_of_casualties']\n",
    "\n",
    "x_test = df_test.drop(['number_of_casualties'], axis=1)\n",
    "y_test = df_test['number_of_casualties']\n"
   ]
  },
  {
   "attachments": {},
   "cell_type": "markdown",
   "id": "21c59cda",
   "metadata": {},
   "source": [
    "Now, We will be scaling using Standard Scaler to remove the mean and scales each feature/variable to unit variance"
   ]
  },
  {
   "cell_type": "code",
   "execution_count": 32,
   "id": "8579e5fe",
   "metadata": {},
   "outputs": [],
   "source": [
    "# Scaling using Standard Scaler\n",
    "scaler = StandardScaler() \n",
    "\n",
    "x_train_scaled = scaler.fit_transform(x_train)\n",
    "x_test_scaled = scaler.transform(x_test)\n"
   ]
  },
  {
   "attachments": {},
   "cell_type": "markdown",
   "id": "b60fef04",
   "metadata": {},
   "source": [
    "## Baseline Model"
   ]
  },
  {
   "attachments": {},
   "cell_type": "markdown",
   "id": "237e0e35",
   "metadata": {},
   "source": [
    "A baseline model is a straightforward model that is used as a basis or a point of comparison when evaluating the performance of more intricate models."
   ]
  },
  {
   "cell_type": "code",
   "execution_count": 34,
   "id": "a9a41c7a",
   "metadata": {},
   "outputs": [
    {
     "data": {
      "text/plain": [
       "1.2415860735009672"
      ]
     },
     "execution_count": 34,
     "metadata": {},
     "output_type": "execute_result"
    }
   ],
   "source": [
    "#Calculating mean value training set\n",
    "mean_rating=y_train.mean()\n",
    "mean_rating"
   ]
  },
  {
   "cell_type": "code",
   "execution_count": 37,
   "id": "f9e03871",
   "metadata": {},
   "outputs": [
    {
     "data": {
      "text/plain": [
       "0.6783839874787445"
      ]
     },
     "execution_count": 37,
     "metadata": {},
     "output_type": "execute_result"
    }
   ],
   "source": [
    "#Calculating RMSE for baseline model\n",
    "from sklearn.metrics import mean_squared_error\n",
    "\n",
    "yhat = np.full((y_train.shape[0], 1), mean_rating)\n",
    "baseline_mse = mean_squared_error(y_train, yhat)\n",
    "\n",
    "\n",
    "baseline_rmse = np.sqrt(baseline_mse)\n",
    "baseline_rmse"
   ]
  },
  {
   "attachments": {},
   "cell_type": "markdown",
   "id": "141366be",
   "metadata": {},
   "source": [
    "We got the RMSE value of our baseline model as 0.6783839874787445"
   ]
  },
  {
   "attachments": {},
   "cell_type": "markdown",
   "id": "fdd5f986",
   "metadata": {},
   "source": [
    "## Models for analysis"
   ]
  },
  {
   "attachments": {},
   "cell_type": "markdown",
   "id": "92d9f694",
   "metadata": {},
   "source": [
    "After our baseline model, We will be running out dataset on various models to get the initial Analysis results."
   ]
  },
  {
   "cell_type": "markdown",
   "id": "07dcaf66",
   "metadata": {},
   "source": [
    "## Linear Regression Model"
   ]
  },
  {
   "cell_type": "code",
   "execution_count": 10,
   "id": "81431493",
   "metadata": {},
   "outputs": [
    {
     "data": {
      "text/html": [
       "<div>\n",
       "<style scoped>\n",
       "    .dataframe tbody tr th:only-of-type {\n",
       "        vertical-align: middle;\n",
       "    }\n",
       "\n",
       "    .dataframe tbody tr th {\n",
       "        vertical-align: top;\n",
       "    }\n",
       "\n",
       "    .dataframe thead th {\n",
       "        text-align: right;\n",
       "    }\n",
       "</style>\n",
       "<table border=\"1\" class=\"dataframe\">\n",
       "  <thead>\n",
       "    <tr style=\"text-align: right;\">\n",
       "      <th></th>\n",
       "      <th>Attribute</th>\n",
       "      <th>Coefficient</th>\n",
       "    </tr>\n",
       "  </thead>\n",
       "  <tbody>\n",
       "    <tr>\n",
       "      <th>0</th>\n",
       "      <td>Unnamed: 0</td>\n",
       "      <td>-0.026371</td>\n",
       "    </tr>\n",
       "    <tr>\n",
       "      <th>1</th>\n",
       "      <td>number_of_vehicles</td>\n",
       "      <td>0.142787</td>\n",
       "    </tr>\n",
       "    <tr>\n",
       "      <th>2</th>\n",
       "      <td>sex_of_driver</td>\n",
       "      <td>0.008326</td>\n",
       "    </tr>\n",
       "    <tr>\n",
       "      <th>3</th>\n",
       "      <td>urban_or_rural_area</td>\n",
       "      <td>0.028676</td>\n",
       "    </tr>\n",
       "    <tr>\n",
       "      <th>4</th>\n",
       "      <td>light_conditions</td>\n",
       "      <td>0.009722</td>\n",
       "    </tr>\n",
       "    <tr>\n",
       "      <th>5</th>\n",
       "      <td>road_type</td>\n",
       "      <td>0.000549</td>\n",
       "    </tr>\n",
       "    <tr>\n",
       "      <th>6</th>\n",
       "      <td>vehicle_left_hand_drive</td>\n",
       "      <td>0.008356</td>\n",
       "    </tr>\n",
       "    <tr>\n",
       "      <th>7</th>\n",
       "      <td>first_point_of_impact</td>\n",
       "      <td>-0.015179</td>\n",
       "    </tr>\n",
       "    <tr>\n",
       "      <th>8</th>\n",
       "      <td>age_band_of_driver</td>\n",
       "      <td>-0.076492</td>\n",
       "    </tr>\n",
       "    <tr>\n",
       "      <th>9</th>\n",
       "      <td>age_of_vehicle</td>\n",
       "      <td>0.022937</td>\n",
       "    </tr>\n",
       "    <tr>\n",
       "      <th>10</th>\n",
       "      <td>driver_home_area_type</td>\n",
       "      <td>-0.007916</td>\n",
       "    </tr>\n",
       "    <tr>\n",
       "      <th>11</th>\n",
       "      <td>vehicle_manoeuvre</td>\n",
       "      <td>-0.037507</td>\n",
       "    </tr>\n",
       "    <tr>\n",
       "      <th>12</th>\n",
       "      <td>road_surface_conditions</td>\n",
       "      <td>-0.002436</td>\n",
       "    </tr>\n",
       "    <tr>\n",
       "      <th>13</th>\n",
       "      <td>age_of_driver</td>\n",
       "      <td>0.078078</td>\n",
       "    </tr>\n",
       "    <tr>\n",
       "      <th>14</th>\n",
       "      <td>accident_sev</td>\n",
       "      <td>-0.054082</td>\n",
       "    </tr>\n",
       "  </tbody>\n",
       "</table>\n",
       "</div>"
      ],
      "text/plain": [
       "                  Attribute  Coefficient\n",
       "0                Unnamed: 0    -0.026371\n",
       "1        number_of_vehicles     0.142787\n",
       "2             sex_of_driver     0.008326\n",
       "3       urban_or_rural_area     0.028676\n",
       "4          light_conditions     0.009722\n",
       "5                 road_type     0.000549\n",
       "6   vehicle_left_hand_drive     0.008356\n",
       "7     first_point_of_impact    -0.015179\n",
       "8        age_band_of_driver    -0.076492\n",
       "9            age_of_vehicle     0.022937\n",
       "10    driver_home_area_type    -0.007916\n",
       "11        vehicle_manoeuvre    -0.037507\n",
       "12  road_surface_conditions    -0.002436\n",
       "13            age_of_driver     0.078078\n",
       "14             accident_sev    -0.054082"
      ]
     },
     "metadata": {},
     "output_type": "display_data"
    },
    {
     "name": "stdout",
     "output_type": "stream",
     "text": [
      "Intercept:  1.2415860735009672\n",
      "R squared value: 0.05235384928332165\n",
      "Mean Squared Error (MSE): 0.4499899874293023\n",
      "Root Mean Squared Error (RMSE): 0.6708129302788537\n"
     ]
    }
   ],
   "source": [
    "# create linear regression object\n",
    "reg = LinearRegression()\n",
    "\n",
    "reg.fit(x_train_scaled, y_train)\n",
    "\n",
    "# print coefficients in a dataframe\n",
    "coef_df = pd.DataFrame({'Attribute' : x_train.columns, 'Coefficient': reg.coef_})\n",
    "display(coef_df)\n",
    "print('Intercept: ',reg.intercept_)\n",
    "\n",
    "# calculate R squared value\n",
    "y_pred = reg.predict(x_test_scaled)\n",
    "r2 = r2_score(y_test, y_pred)\n",
    "print('R squared value:', r2)\n",
    "\n",
    "mse = mean_squared_error(y_test, y_pred)\n",
    "print(\"Mean Squared Error (MSE):\", mse)\n",
    "\n",
    "# compute root mean squared error (RMSE)\n",
    "rmse = np.sqrt(mse)\n",
    "print(\"Root Mean Squared Error (RMSE):\", rmse)"
   ]
  },
  {
   "cell_type": "markdown",
   "id": "0b888789",
   "metadata": {},
   "source": [
    "## Decision Tree Regressor"
   ]
  },
  {
   "cell_type": "code",
   "execution_count": 11,
   "id": "998d3b6a",
   "metadata": {},
   "outputs": [
    {
     "name": "stdout",
     "output_type": "stream",
     "text": [
      "R squared value: -0.6368650679281664\n",
      "Mean Squared Error (MSE): 0.7772657450076805\n",
      "Root Mean Squared Error (RMSE): 0.8816267606009249\n"
     ]
    }
   ],
   "source": [
    "regressor = DecisionTreeRegressor(random_state=0)\n",
    "\n",
    "regressor.fit(x_train, y_train)\n",
    "\n",
    "# predict the output\n",
    "y_pred = regressor.predict(x_test)\n",
    "\n",
    "r2 = r2_score(y_test, y_pred)\n",
    "print('R squared value:', r2)\n",
    "\n",
    "# compute mean squared error (MSE)\n",
    "mse = mean_squared_error(y_test, y_pred)\n",
    "print(\"Mean Squared Error (MSE):\", mse)\n",
    "\n",
    "# compute root mean squared error (RMSE)\n",
    "rmse = np.sqrt(mse)\n",
    "print(\"Root Mean Squared Error (RMSE):\", rmse)"
   ]
  },
  {
   "cell_type": "markdown",
   "id": "c5e220ba",
   "metadata": {},
   "source": [
    "## KNN Regressor"
   ]
  },
  {
   "cell_type": "code",
   "execution_count": 12,
   "id": "cf2b352c",
   "metadata": {},
   "outputs": [
    {
     "name": "stdout",
     "output_type": "stream",
     "text": [
      "Mean Squared Error (MSE): 0.5455709165386585\n",
      "Root Mean Squared Error (RMSE): 0.7386277252707608\n",
      "R2 Score: -0.14893262837777432\n"
     ]
    }
   ],
   "source": [
    "regressor = KNeighborsRegressor(n_neighbors=3)\n",
    "\n",
    "regressor.fit(x_train, y_train)\n",
    "\n",
    "y_pred = regressor.predict(x_test)\n",
    "\n",
    "# compute mean squared error (MSE)\n",
    "mse = mean_squared_error(y_test, y_pred)\n",
    "print(\"Mean Squared Error (MSE):\", mse)\n",
    "\n",
    "# compute root mean squared error (RMSE)\n",
    "rmse = np.sqrt(mse)\n",
    "print(\"Root Mean Squared Error (RMSE):\", rmse)\n",
    "\n",
    "# compute R2 score\n",
    "r2 = r2_score(y_test, y_pred)\n",
    "print(\"R2 Score:\", r2)"
   ]
  },
  {
   "cell_type": "markdown",
   "id": "f3ec16b8",
   "metadata": {},
   "source": [
    "## Random Forest Regressor"
   ]
  },
  {
   "cell_type": "code",
   "execution_count": 13,
   "id": "7e67f9c9",
   "metadata": {},
   "outputs": [
    {
     "name": "stdout",
     "output_type": "stream",
     "text": [
      "Mean Squared Error (MSE): 0.3830470814132105\n",
      "Root Mean Squared Error (RMSE): 0.6189079749148579\n",
      "R2 Score: 0.19333073538326973\n"
     ]
    }
   ],
   "source": [
    "regressor = RandomForestRegressor(n_estimators=100, random_state=0)\n",
    "\n",
    "regressor.fit(x_train, y_train)\n",
    "\n",
    "y_pred = regressor.predict(x_test)\n",
    "\n",
    "# compute mean squared error (MSE)\n",
    "mse = mean_squared_error(y_test, y_pred)\n",
    "print(\"Mean Squared Error (MSE):\", mse)\n",
    "\n",
    "# compute root mean squared error (RMSE)\n",
    "rmse = np.sqrt(mse)\n",
    "print(\"Root Mean Squared Error (RMSE):\", rmse)\n",
    "\n",
    "# compute R2 score\n",
    "r2 = r2_score(y_test, y_pred)\n",
    "print(\"R2 Score:\", r2)"
   ]
  },
  {
   "cell_type": "markdown",
   "id": "eb80417e",
   "metadata": {},
   "source": [
    "# Cross Validation"
   ]
  },
  {
   "attachments": {},
   "cell_type": "markdown",
   "id": "c95bebbe",
   "metadata": {},
   "source": [
    "Cross-validation is a technique for evaluating the performance of a machine learning model on a dataset"
   ]
  },
  {
   "attachments": {},
   "cell_type": "markdown",
   "id": "b46f2c23",
   "metadata": {},
   "source": [
    "So, we will be checking our dataset using cross validation for further steps"
   ]
  },
  {
   "cell_type": "markdown",
   "id": "0429ac78",
   "metadata": {},
   "source": [
    "## Linear Regressor"
   ]
  },
  {
   "cell_type": "code",
   "execution_count": 61,
   "id": "a5add3ea",
   "metadata": {},
   "outputs": [
    {
     "name": "stdout",
     "output_type": "stream",
     "text": [
      "Cross-Validation Scores: [ 0.07930346  0.08364844  0.05099385  0.02098083 -0.01303251]\n",
      "Mean Squared Error (MSE): 0.4485223256015775\n",
      "Root Mean Squared Error (RMSE): 0.6697180941273556\n",
      "R2 Score: 0.055444638235188526\n"
     ]
    }
   ],
   "source": [
    "regressor = LinearRegression()\n",
    "\n",
    "# perform 5-fold cross-validation on training data\n",
    "scores = cross_val_score(regressor, x_train, y_train, cv=5)\n",
    "\n",
    "print(\"Cross-Validation Scores:\", scores)\n",
    "\n",
    "regressor.fit(x_train, y_train)\n",
    "\n",
    "y_pred = regressor.predict(x_test)\n",
    "\n",
    "# compute mean squared error (MSE)\n",
    "mse = mean_squared_error(y_test, y_pred)\n",
    "print(\"Mean Squared Error (MSE):\", mse)\n",
    "\n",
    "# compute root mean squared error (RMSE)\n",
    "rmse = np.sqrt(mse)\n",
    "print(\"Root Mean Squared Error (RMSE):\", rmse)\n",
    "\n",
    "# compute R2 score\n",
    "r2 = r2_score(y_test, y_pred)\n",
    "print(\"R2 Score:\", r2)"
   ]
  },
  {
   "cell_type": "markdown",
   "id": "abb5fdb9",
   "metadata": {},
   "source": [
    "## Decision Tree Regressor"
   ]
  },
  {
   "cell_type": "code",
   "execution_count": 15,
   "id": "35560958",
   "metadata": {},
   "outputs": [
    {
     "name": "stdout",
     "output_type": "stream",
     "text": [
      "Cross-Validation Scores: [-0.41908814 -0.32219143 -0.79471046 -0.86611738 -0.77030983]\n",
      "Mean Squared Error (MSE): 0.7795698924731183\n",
      "Root Mean Squared Error (RMSE): 0.8829325526183289\n",
      "R2 Score: -0.6417174347303249\n"
     ]
    }
   ],
   "source": [
    "regressor = DecisionTreeRegressor(random_state=42)\n",
    "\n",
    "scores = cross_val_score(regressor, x_train, y_train, cv=5)\n",
    "\n",
    "print(\"Cross-Validation Scores:\", scores)\n",
    "\n",
    "regressor.fit(x_train, y_train)\n",
    "\n",
    "y_pred = regressor.predict(x_test)\n",
    "\n",
    "mse = mean_squared_error(y_test, y_pred)\n",
    "print(\"Mean Squared Error (MSE):\", mse)\n",
    "\n",
    "rmse = np.sqrt(mse)\n",
    "print(\"Root Mean Squared Error (RMSE):\", rmse)\n",
    "\n",
    "r2 = r2_score(y_test, y_pred)\n",
    "print(\"R2 Score:\", r2)\n"
   ]
  },
  {
   "cell_type": "markdown",
   "id": "d2658efa",
   "metadata": {},
   "source": [
    "## KNN Regressor"
   ]
  },
  {
   "cell_type": "code",
   "execution_count": 16,
   "id": "33c11175",
   "metadata": {},
   "outputs": [
    {
     "name": "stdout",
     "output_type": "stream",
     "text": [
      "Cross-Validation Scores: [-0.05111807  0.05213794 -0.04171725 -0.02559309 -0.16252128]\n",
      "Mean Squared Error (MSE): 0.5232565284178187\n",
      "Root Mean Squared Error (RMSE): 0.7233647271037057\n",
      "R2 Score: -0.1019401516582028\n"
     ]
    }
   ],
   "source": [
    "regressor = KNeighborsRegressor()\n",
    "\n",
    "scores = cross_val_score(regressor, x_train, y_train, cv=5)\n",
    "\n",
    "# print the cross-validation scores\n",
    "print(\"Cross-Validation Scores:\", scores)\n",
    "\n",
    "# fit the model with training data\n",
    "regressor.fit(x_train, y_train)\n",
    "\n",
    "# predict the output for testing data\n",
    "y_pred = regressor.predict(x_test)\n",
    "\n",
    "# compute mean squared error (MSE)\n",
    "mse = mean_squared_error(y_test, y_pred)\n",
    "print(\"Mean Squared Error (MSE):\", mse)\n",
    "\n",
    "# compute root mean squared error (RMSE)\n",
    "rmse = np.sqrt(mse)\n",
    "print(\"Root Mean Squared Error (RMSE):\", rmse)\n",
    "\n",
    "# compute R2 score\n",
    "r2 = r2_score(y_test, y_pred)\n",
    "print(\"R2 Score:\", r2)"
   ]
  },
  {
   "attachments": {},
   "cell_type": "markdown",
   "id": "63422a46",
   "metadata": {},
   "source": [
    "# Hyper Parameter Tuning And Model Evaluation"
   ]
  },
  {
   "attachments": {},
   "cell_type": "markdown",
   "id": "a39eaaa2",
   "metadata": {},
   "source": [
    "Hyperparameter tuning is the process of selecting the optimal hyperparameters for a machine learning model."
   ]
  },
  {
   "attachments": {},
   "cell_type": "markdown",
   "id": "942f391a",
   "metadata": {},
   "source": [
    "Now, We will be Working on the following models by using different hyper parameters until we obtain the best model"
   ]
  },
  {
   "attachments": {},
   "cell_type": "markdown",
   "id": "b337d7e7",
   "metadata": {},
   "source": [
    "For a Good regression model, The criteria on which we check our analysis and results is RMSE - Root Mean Squared Error value. The best model is considerd to have a least RMSE values."
   ]
  },
  {
   "cell_type": "markdown",
   "id": "13959c37",
   "metadata": {},
   "source": [
    "## Linear Regression"
   ]
  },
  {
   "cell_type": "code",
   "execution_count": 17,
   "id": "692b6e63",
   "metadata": {},
   "outputs": [
    {
     "name": "stdout",
     "output_type": "stream",
     "text": [
      "Best Parameters: {'positive': False, 'fit_intercept': True, 'copy_X': True}\n",
      "Best Score: 0.04579804516851567\n",
      "Mean Squared Error (MSE): 0.4499899874293023\n",
      "Root Mean Squared Error (RMSE): 0.6708129302788537\n",
      "R2 Score: 0.05235384928332165\n"
     ]
    }
   ],
   "source": [
    "regressor = LinearRegression()\n",
    "\n",
    "# set up the parameter grid for RandomizedSearchCV\n",
    "param_grid = {'fit_intercept': [True, False],\n",
    "              'positive': [True, False],\n",
    "              'copy_X': [True, False]}\n",
    "\n",
    "# perform Randomized Search CV with 5-fold cross-validation on training data\n",
    "rand_search = RandomizedSearchCV(regressor, param_grid, cv=5, n_iter=10, random_state=0)\n",
    "rand_search.fit(x_train, y_train)\n",
    "\n",
    "# print the best parameters and best score\n",
    "print(\"Best Parameters:\", rand_search.best_params_)\n",
    "print(\"Best Score:\", rand_search.best_score_)\n",
    "\n",
    "# fit the model with training data using the best parameters\n",
    "regressor = LinearRegression(**rand_search.best_params_)\n",
    "regressor.fit(x_train, y_train)\n",
    "\n",
    "# predict the output for testing data\n",
    "y_pred = regressor.predict(x_test)\n",
    "\n",
    "# compute mean squared error (MSE)\n",
    "mse = mean_squared_error(y_test, y_pred)\n",
    "print(\"Mean Squared Error (MSE):\", mse)\n",
    "\n",
    "# compute root mean squared error (RMSE)\n",
    "rmse = np.sqrt(mse)\n",
    "print(\"Root Mean Squared Error (RMSE):\", rmse)\n",
    "\n",
    "# compute R2 score\n",
    "r2 = r2_score(y_test, y_pred)\n",
    "print(\"R2 Score:\", r2)"
   ]
  },
  {
   "attachments": {},
   "cell_type": "markdown",
   "id": "3f0d8f72",
   "metadata": {},
   "source": [
    "For our Regression model, The value of R2 for the following parameters is 0.052, mean 5% which is very less indicating that the model is not that good and the RMSE value is 0.6708"
   ]
  },
  {
   "cell_type": "markdown",
   "id": "eae54f1a",
   "metadata": {},
   "source": [
    "## Decision Tree Regressor"
   ]
  },
  {
   "cell_type": "code",
   "execution_count": 18,
   "id": "40c5521a",
   "metadata": {},
   "outputs": [
    {
     "name": "stdout",
     "output_type": "stream",
     "text": [
      "Best Parameters: {'min_samples_split': 4, 'min_samples_leaf': 2, 'max_features': 'auto', 'max_depth': 5}\n",
      "Best Score: 0.1608338350465658\n",
      "Mean Squared Error (MSE): 0.3871416909807951\n",
      "Root Mean Squared Error (RMSE): 0.6222071126086515\n",
      "R2 Score: 0.1847077857537096\n"
     ]
    }
   ],
   "source": [
    "regressor = DecisionTreeRegressor(random_state=0)\n",
    "\n",
    "param_grid = {'max_depth': [1, 2, 3, 4, 5],\n",
    "              'min_samples_split': [2, 3, 4],\n",
    "              'min_samples_leaf': [1, 2, 3],\n",
    "              'max_features': ['auto', 'sqrt', 'log2']}\n",
    "\n",
    "rand_search = RandomizedSearchCV(regressor, param_grid, cv=5, n_iter=10, random_state=0)\n",
    "rand_search.fit(x_train, y_train)\n",
    "\n",
    "# print the best parameters and best score\n",
    "print(\"Best Parameters:\", rand_search.best_params_)\n",
    "print(\"Best Score:\", rand_search.best_score_)\n",
    "\n",
    "# fit the model with training data using the best parameters\n",
    "regressor = DecisionTreeRegressor(**rand_search.best_params_, random_state=0)\n",
    "regressor.fit(x_train, y_train)\n",
    "\n",
    "# predict the output for testing data\n",
    "y_pred = regressor.predict(x_test)\n",
    "\n",
    "# compute mean squared error (MSE)\n",
    "mse = mean_squared_error(y_test, y_pred)\n",
    "print(\"Mean Squared Error (MSE):\", mse)\n",
    "\n",
    "# compute root mean squared error (RMSE)\n",
    "rmse = np.sqrt(mse)\n",
    "print(\"Root Mean Squared Error (RMSE):\", rmse)\n",
    "\n",
    "# compute R2 score\n",
    "r2 = r2_score(y_test, y_pred)\n",
    "print(\"R2 Score:\", r2)\n"
   ]
  },
  {
   "attachments": {},
   "cell_type": "markdown",
   "id": "a9714065",
   "metadata": {},
   "source": [
    "For our Decision Tress, The RMSE value is 0.62."
   ]
  },
  {
   "cell_type": "markdown",
   "id": "ee50e8cc",
   "metadata": {},
   "source": [
    "## KNN Regressor"
   ]
  },
  {
   "cell_type": "code",
   "execution_count": 19,
   "id": "817697ee",
   "metadata": {},
   "outputs": [
    {
     "name": "stdout",
     "output_type": "stream",
     "text": [
      "Best Parameters: {'weights': 'distance', 'n_neighbors': 9, 'algorithm': 'brute'}\n",
      "Best Score: 0.0157692325594768\n",
      "Mean Squared Error (MSE): 0.4817461428954608\n",
      "Root Mean Squared Error (RMSE): 0.6940793491348527\n",
      "R2 Score: -0.014522302030586243\n"
     ]
    }
   ],
   "source": [
    "regressor = KNeighborsRegressor()\n",
    "\n",
    "# set up the parameter grid for RandomizedSearchCV\n",
    "param_grid = {'n_neighbors': [3, 5, 7, 9],\n",
    "              'weights': ['uniform', 'distance'],\n",
    "              'algorithm': ['ball_tree', 'kd_tree', 'brute']}\n",
    "\n",
    "# perform Randomized Search CV with 5-fold cross-validation on training data\n",
    "rand_search = RandomizedSearchCV(regressor, param_grid, cv=5, n_iter=10, random_state=0)\n",
    "rand_search.fit(x_train, y_train)\n",
    "\n",
    "# print the best parameters and best score\n",
    "print(\"Best Parameters:\", rand_search.best_params_)\n",
    "print(\"Best Score:\", rand_search.best_score_)\n",
    "\n",
    "# fit the model with training data using the best parameters\n",
    "regressor = KNeighborsRegressor(**rand_search.best_params_)\n",
    "regressor.fit(x_train, y_train)\n",
    "\n",
    "# predict the output for testing data\n",
    "y_pred = regressor.predict(x_test)\n",
    "\n",
    "# compute mean squared error (MSE)\n",
    "mse = mean_squared_error(y_test, y_pred)\n",
    "print(\"Mean Squared Error (MSE):\", mse)\n",
    "\n",
    "# compute root mean squared error (RMSE)\n",
    "rmse = np.sqrt(mse)\n",
    "print(\"Root Mean Squared Error (RMSE):\", rmse)\n",
    "\n",
    "# compute R2 score\n",
    "r2 = r2_score(y_test, y_pred)\n",
    "print(\"R2 Score:\", r2)"
   ]
  },
  {
   "attachments": {},
   "cell_type": "markdown",
   "id": "39cdf51f",
   "metadata": {},
   "source": [
    "The RMSE value for KNN is 0.69"
   ]
  },
  {
   "cell_type": "markdown",
   "id": "c358ba83",
   "metadata": {},
   "source": [
    "## Random Forest Regressor"
   ]
  },
  {
   "cell_type": "code",
   "execution_count": 20,
   "id": "23b03476",
   "metadata": {},
   "outputs": [
    {
     "name": "stdout",
     "output_type": "stream",
     "text": [
      "Best Parameters: {'n_estimators': 500, 'min_samples_split': 5, 'min_samples_leaf': 1, 'max_features': 'sqrt', 'max_depth': 10, 'bootstrap': False}\n",
      "Best Score: 0.15657900244374148\n",
      "Mean Squared Error (MSE): 0.3830603679949002\n",
      "Root Mean Squared Error (RMSE): 0.6189187087129457\n",
      "R2 Score: 0.1933027548095988\n"
     ]
    }
   ],
   "source": [
    "regressor = RandomForestRegressor()\n",
    "\n",
    "# set up the parameter grid for RandomizedSearchCV\n",
    "param_grid = {'n_estimators': [100, 200, 300, 400, 500],\n",
    "              'max_features': ['auto', 'sqrt'],\n",
    "              'max_depth': [5, 10, 15, 20, 25, None],\n",
    "              'min_samples_split': [2, 5, 10],\n",
    "              'min_samples_leaf': [1, 2, 4],\n",
    "              'bootstrap': [True, False]}\n",
    "\n",
    "# perform Randomized Search CV with 5-fold cross-validation on training data\n",
    "rand_search = RandomizedSearchCV(regressor, param_grid, cv=5, n_iter=10, random_state=0)\n",
    "rand_search.fit(x_train, y_train)\n",
    "\n",
    "# print the best parameters and best score\n",
    "print(\"Best Parameters:\", rand_search.best_params_)\n",
    "print(\"Best Score:\", rand_search.best_score_)\n",
    "\n",
    "# fit the model with training data using the best parameters\n",
    "regressor = RandomForestRegressor(**rand_search.best_params_)\n",
    "regressor.fit(x_train, y_train)\n",
    "\n",
    "# predict the output for testing data\n",
    "y_pred = regressor.predict(x_test)\n",
    "\n",
    "# compute mean squared error (MSE)\n",
    "mse = mean_squared_error(y_test, y_pred)\n",
    "print(\"Mean Squared Error (MSE):\", mse)\n",
    "\n",
    "# compute root mean squared error (RMSE)\n",
    "rmse = np.sqrt(mse)\n",
    "print(\"Root Mean Squared Error (RMSE):\", rmse)\n",
    "\n",
    "# compute R2 score\n",
    "r2 = r2_score(y_test, y_pred)\n",
    "print(\"R2 Score:\", r2)"
   ]
  },
  {
   "attachments": {},
   "cell_type": "markdown",
   "id": "554ba565",
   "metadata": {},
   "source": [
    "The Value of Root mean square error for Random Forest Regressor is 0.61"
   ]
  },
  {
   "attachments": {},
   "cell_type": "markdown",
   "id": "a56852ee",
   "metadata": {},
   "source": [
    "## Conclusion"
   ]
  },
  {
   "attachments": {},
   "cell_type": "markdown",
   "id": "11fcd498",
   "metadata": {},
   "source": [
    "From the Analysis that we have made above. The least RMSE value is for the Random forest regression model with RMSE value of 0.6189187087129457, Which is lowest amongst all the models that we have run after hyperparameter tuning."
   ]
  },
  {
   "attachments": {},
   "cell_type": "markdown",
   "id": "3354e220",
   "metadata": {},
   "source": [
    "Also, there is no overfitting in the model."
   ]
  },
  {
   "attachments": {},
   "cell_type": "markdown",
   "id": "7b3d218d",
   "metadata": {},
   "source": [
    "Although the RMSE value for our best model is 0.61 which is very low, This model can not be possible in the real world as it is practically not possible to have this low value. However, This can made possible by taking more data inputs so to clear image and understanding."
   ]
  },
  {
   "attachments": {},
   "cell_type": "markdown",
   "id": "5eda8670",
   "metadata": {},
   "source": []
  }
 ],
 "metadata": {
  "kernelspec": {
   "display_name": "Python 3 (ipykernel)",
   "language": "python",
   "name": "python3"
  },
  "language_info": {
   "codemirror_mode": {
    "name": "ipython",
    "version": 3
   },
   "file_extension": ".py",
   "mimetype": "text/x-python",
   "name": "python",
   "nbconvert_exporter": "python",
   "pygments_lexer": "ipython3",
   "version": "3.9.16"
  }
 },
 "nbformat": 4,
 "nbformat_minor": 5
}
